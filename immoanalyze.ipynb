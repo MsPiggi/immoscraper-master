{
 "cells": [
  {
   "cell_type": "code",
   "execution_count": 1,
   "metadata": {
    "collapsed": false
   },
   "outputs": [],
   "source": [
    "import pandas as pd\n",
    "import numpy as np\n",
    "import json\n",
    "\n",
    "%matplotlib inline\n",
    "import matplotlib.pyplot as plt\n",
    "import seaborn as sns\n",
    "sns.set_context('talk')"
   ]
  },
  {
   "cell_type": "markdown",
   "metadata": {},
   "source": [
    "## Stadtteile Dresden"
   ]
  },
  {
   "cell_type": "code",
   "execution_count": 2,
   "metadata": {
    "collapsed": false
   },
   "outputs": [],
   "source": [
    "with open('./stadtteile-Dresden.json') as data_file:    \n",
    "    stadtteil_json = json.load(data_file)"
   ]
  },
  {
   "cell_type": "code",
   "execution_count": 3,
   "metadata": {
    "collapsed": false
   },
   "outputs": [],
   "source": [
    "stadtteile_osm = []\n",
    "for i, stadtteil in enumerate(stadtteil_json['features']):\n",
    "    try:\n",
    "        stadtteilname = stadtteil['properties']['name']\n",
    "        stadtteile_osm.append(stadtteilname)\n",
    "    except:\n",
    "        continue\n",
    "        \n",
    "stadtteile_osm.sort()"
   ]
  },
  {
   "cell_type": "code",
   "execution_count": 4,
   "metadata": {
    "collapsed": false
   },
   "outputs": [
    {
     "data": {
      "text/plain": [
       "[u'Albertstadt',\n",
       " u'Blasewitz',\n",
       " u'Briesnitz',\n",
       " u'B\\xfchlau/Wei\\xdfer Hirsch',\n",
       " u'Cosch\\xfctz/Gittersee',\n",
       " u'Cotta',\n",
       " u'Dresdner Heide',\n",
       " u'Flughafen/Industriegebiet Klotzsche',\n",
       " u'Friedrichstadt',\n",
       " u'Gorbitz-Nord/Neu-Omsewitz',\n",
       " u'Gorbitz-Ost',\n",
       " u'Gorbitz-S\\xfcd',\n",
       " u'Gro\\xdfzschachwitz',\n",
       " u'Gruna',\n",
       " u'G\\xf6nnsdorf/Pappritz',\n",
       " u'Hellerau/Wilschdorf',\n",
       " u'Hellerberge',\n",
       " u'Hosterwitz/Pillnitz',\n",
       " u'Innere Altstadt',\n",
       " u'Innere Neustadt',\n",
       " u'Johannstadt-Nord',\n",
       " u'Johannstadt-S\\xfcd',\n",
       " u'Kaditz',\n",
       " u'Kleinpestitz/Mockritz',\n",
       " u'Kleinzschachwitz',\n",
       " u'Klotzsche',\n",
       " u'Laubegast',\n",
       " u'Leipziger Vorstadt',\n",
       " u'Leuben',\n",
       " u'Leubnitz-Neuostra',\n",
       " u'Lockwitz',\n",
       " u'Loschwitz/Wachwitz',\n",
       " u'L\\xf6btau-Nord',\n",
       " u'L\\xf6btau-S\\xfcd',\n",
       " u'Mickten',\n",
       " u'Nau\\xdflitz',\n",
       " u'Niedersedlitz',\n",
       " u'Pieschen-Nord/Trachenberge',\n",
       " u'Pieschen-S\\xfcd',\n",
       " u'Pirnaische Vorstadt',\n",
       " u'Plauen',\n",
       " u'Prohlis-Nord',\n",
       " u'Prohlis-S\\xfcd',\n",
       " u'Radeberger Vorstadt',\n",
       " u'Reick',\n",
       " u'R\\xe4cknitz/Zschertnitz',\n",
       " u'Sch\\xf6nfeld/Schullwitz',\n",
       " u'Seevorstadt-Ost/Gro\\xdfer Garten',\n",
       " u'Seidnitz/Dobritz',\n",
       " u'Strehlen',\n",
       " u'Striesen-Ost',\n",
       " u'Striesen-S\\xfcd',\n",
       " u'Striesen-West',\n",
       " u'S\\xfcdvorstadt-Ost',\n",
       " u'S\\xfcdvorstadt-West',\n",
       " u'Tolkewitz/Seidnitz-Nord',\n",
       " u'Trachau',\n",
       " u'Weixdorf',\n",
       " u'Wei\\xdfig',\n",
       " u'Wilsdruffer Vorstadt/Seevorstadt-West',\n",
       " u'\\xc4u\\xdfere Neustadt']"
      ]
     },
     "execution_count": 4,
     "metadata": {},
     "output_type": "execute_result"
    }
   ],
   "source": [
    "stadtteile_osm"
   ]
  },
  {
   "cell_type": "markdown",
   "metadata": {},
   "source": [
    "## Postleitzahlen Dresden"
   ]
  },
  {
   "cell_type": "code",
   "execution_count": 5,
   "metadata": {
    "collapsed": true
   },
   "outputs": [],
   "source": [
    "plzs = \"01057,01067,01069,01097,01099,01108,01109,01127,01129,01139,01156,01157,01159,01169,01187,01189,01217,01219,01227,01237,01239,01257,01259,01277,01279,01307,01309,01312,01324,01326,01327,01328,01329,01462,01465,01728\""
   ]
  },
  {
   "cell_type": "code",
   "execution_count": 6,
   "metadata": {
    "collapsed": false
   },
   "outputs": [],
   "source": [
    "ddplzs = plzs.split(',')"
   ]
  },
  {
   "cell_type": "markdown",
   "metadata": {},
   "source": [
    "### QGIS Filter output"
   ]
  },
  {
   "cell_type": "code",
   "execution_count": 7,
   "metadata": {
    "collapsed": false
   },
   "outputs": [
    {
     "name": "stdout",
     "output_type": "stream",
     "text": [
      "\"plz\" LIKE \"01057\" OR\n",
      "\"plz\" LIKE \"01067\" OR\n",
      "\"plz\" LIKE \"01069\" OR\n",
      "\"plz\" LIKE \"01097\" OR\n",
      "\"plz\" LIKE \"01099\" OR\n",
      "\"plz\" LIKE \"01108\" OR\n",
      "\"plz\" LIKE \"01109\" OR\n",
      "\"plz\" LIKE \"01127\" OR\n",
      "\"plz\" LIKE \"01129\" OR\n",
      "\"plz\" LIKE \"01139\" OR\n",
      "\"plz\" LIKE \"01156\" OR\n",
      "\"plz\" LIKE \"01157\" OR\n",
      "\"plz\" LIKE \"01159\" OR\n",
      "\"plz\" LIKE \"01169\" OR\n",
      "\"plz\" LIKE \"01187\" OR\n",
      "\"plz\" LIKE \"01189\" OR\n",
      "\"plz\" LIKE \"01217\" OR\n",
      "\"plz\" LIKE \"01219\" OR\n",
      "\"plz\" LIKE \"01227\" OR\n",
      "\"plz\" LIKE \"01237\" OR\n",
      "\"plz\" LIKE \"01239\" OR\n",
      "\"plz\" LIKE \"01257\" OR\n",
      "\"plz\" LIKE \"01259\" OR\n",
      "\"plz\" LIKE \"01277\" OR\n",
      "\"plz\" LIKE \"01279\" OR\n",
      "\"plz\" LIKE \"01307\" OR\n",
      "\"plz\" LIKE \"01309\" OR\n",
      "\"plz\" LIKE \"01312\" OR\n",
      "\"plz\" LIKE \"01324\" OR\n",
      "\"plz\" LIKE \"01326\" OR\n",
      "\"plz\" LIKE \"01327\" OR\n",
      "\"plz\" LIKE \"01328\" OR\n",
      "\"plz\" LIKE \"01329\" OR\n",
      "\"plz\" LIKE \"01462\" OR\n",
      "\"plz\" LIKE \"01465\" OR\n",
      "\"plz\" LIKE \"01728\" OR\n"
     ]
    }
   ],
   "source": [
    "for plz in ddplzs:\n",
    "    print('\"plz\" LIKE \"%s\" OR' % plz.strip())"
   ]
  },
  {
   "cell_type": "markdown",
   "metadata": {},
   "source": [
    "## Daten lesen"
   ]
  },
  {
   "cell_type": "code",
   "execution_count": 8,
   "metadata": {
    "collapsed": false
   },
   "outputs": [],
   "source": [
    "data = pd.read_csv('2015-08-09-17-49-immo-komplett.csv', encoding='utf-8', dtype={'PLZ': str})"
   ]
  },
  {
   "cell_type": "code",
   "execution_count": 9,
   "metadata": {
    "collapsed": false
   },
   "outputs": [],
   "source": [
    "data.index = data.ID"
   ]
  },
  {
   "cell_type": "code",
   "execution_count": 10,
   "metadata": {
    "collapsed": false
   },
   "outputs": [
    {
     "data": {
      "text/html": [
       "<div>\n",
       "<table border=\"1\" class=\"dataframe\">\n",
       "  <thead>\n",
       "    <tr style=\"text-align: right;\">\n",
       "      <th></th>\n",
       "      <th>ID</th>\n",
       "      <th>Adresse</th>\n",
       "      <th>Bilder</th>\n",
       "      <th>Features</th>\n",
       "      <th>From</th>\n",
       "      <th>Grundgriss</th>\n",
       "      <th>Grundstück</th>\n",
       "      <th>Haus/Wohnung</th>\n",
       "      <th>Kaltmiete</th>\n",
       "      <th>Kaufpreis</th>\n",
       "      <th>...</th>\n",
       "      <th>Lon</th>\n",
       "      <th>Miete/Kauf</th>\n",
       "      <th>PLZ</th>\n",
       "      <th>Stadt</th>\n",
       "      <th>Stadtteil</th>\n",
       "      <th>Titel</th>\n",
       "      <th>Wohnfläche</th>\n",
       "      <th>Zimmer</th>\n",
       "      <th>von privat</th>\n",
       "      <th>From_UUID</th>\n",
       "    </tr>\n",
       "    <tr>\n",
       "      <th>ID</th>\n",
       "      <th></th>\n",
       "      <th></th>\n",
       "      <th></th>\n",
       "      <th></th>\n",
       "      <th></th>\n",
       "      <th></th>\n",
       "      <th></th>\n",
       "      <th></th>\n",
       "      <th></th>\n",
       "      <th></th>\n",
       "      <th></th>\n",
       "      <th></th>\n",
       "      <th></th>\n",
       "      <th></th>\n",
       "      <th></th>\n",
       "      <th></th>\n",
       "      <th></th>\n",
       "      <th></th>\n",
       "      <th></th>\n",
       "      <th></th>\n",
       "      <th></th>\n",
       "    </tr>\n",
       "  </thead>\n",
       "  <tbody>\n",
       "    <tr>\n",
       "      <th>32158558</th>\n",
       "      <td>32158558</td>\n",
       "      <td>Cotta, Dresden</td>\n",
       "      <td>12</td>\n",
       "      <td>[Einbauküche]</td>\n",
       "      <td>Frau Sabine Socha</td>\n",
       "      <td>True</td>\n",
       "      <td>NaN</td>\n",
       "      <td>Wohnung</td>\n",
       "      <td>395 €</td>\n",
       "      <td>NaN</td>\n",
       "      <td>...</td>\n",
       "      <td>NaN</td>\n",
       "      <td>Miete</td>\n",
       "      <td>01157</td>\n",
       "      <td>Dresden</td>\n",
       "      <td>Cotta</td>\n",
       "      <td>Sonn. ruh. 2-RW m. Wohnküche und EBK, 25 m² gr...</td>\n",
       "      <td>60 m²</td>\n",
       "      <td>2</td>\n",
       "      <td>False</td>\n",
       "      <td>e1b44548-d76b-39d6-a168-11eedfebe535</td>\n",
       "    </tr>\n",
       "    <tr>\n",
       "      <th>33436307</th>\n",
       "      <td>33436307</td>\n",
       "      <td>Leuckartstraße 4, Kaditz, Dresden</td>\n",
       "      <td>6</td>\n",
       "      <td>[Garten]</td>\n",
       "      <td>Frau K. Heller</td>\n",
       "      <td>False</td>\n",
       "      <td>NaN</td>\n",
       "      <td>Wohnung</td>\n",
       "      <td>375 €</td>\n",
       "      <td>NaN</td>\n",
       "      <td>...</td>\n",
       "      <td>13.70031</td>\n",
       "      <td>Miete</td>\n",
       "      <td>01139</td>\n",
       "      <td>Dresden</td>\n",
       "      <td>Kaditz</td>\n",
       "      <td>Ruhe und Sonne am Elbepark</td>\n",
       "      <td>55 m²</td>\n",
       "      <td>2</td>\n",
       "      <td>False</td>\n",
       "      <td>d2341837-abcd-3fb1-9976-0fe5445e5eff</td>\n",
       "    </tr>\n",
       "    <tr>\n",
       "      <th>34342048</th>\n",
       "      <td>34342048</td>\n",
       "      <td>Reisewitzer Straße 66, Löbtau-Süd, Dresden</td>\n",
       "      <td>6</td>\n",
       "      <td>[Einbauküche]</td>\n",
       "      <td>Frau K. Stelmaszyk</td>\n",
       "      <td>True</td>\n",
       "      <td>NaN</td>\n",
       "      <td>Wohnung</td>\n",
       "      <td>475 €</td>\n",
       "      <td>NaN</td>\n",
       "      <td>...</td>\n",
       "      <td>13.70182</td>\n",
       "      <td>Miete</td>\n",
       "      <td>01159</td>\n",
       "      <td>Dresden</td>\n",
       "      <td>Löbtau-Süd</td>\n",
       "      <td>Schöne 3-Zimmerwohnung im sanierten Altbau mit...</td>\n",
       "      <td>66 m²</td>\n",
       "      <td>3</td>\n",
       "      <td>False</td>\n",
       "      <td>f176e6d5-ae92-3950-a10b-63809cddaeb9</td>\n",
       "    </tr>\n",
       "    <tr>\n",
       "      <th>36275407</th>\n",
       "      <td>36275407</td>\n",
       "      <td>Pfotenhauer Straße 78, Johannstadt-Nord, Dresden</td>\n",
       "      <td>5</td>\n",
       "      <td>[Einbauküche]</td>\n",
       "      <td>Frau M. Müller</td>\n",
       "      <td>True</td>\n",
       "      <td>NaN</td>\n",
       "      <td>Wohnung</td>\n",
       "      <td>257 €</td>\n",
       "      <td>NaN</td>\n",
       "      <td>...</td>\n",
       "      <td>13.77354</td>\n",
       "      <td>Miete</td>\n",
       "      <td>01307</td>\n",
       "      <td>Dresden</td>\n",
       "      <td>Johannstadt-Nord</td>\n",
       "      <td>Hübsche Singlewohnung mit hochwertiger Ausstat...</td>\n",
       "      <td>27 m²</td>\n",
       "      <td>1</td>\n",
       "      <td>False</td>\n",
       "      <td>9006fd9e-e9fb-3f05-a584-b641c55f5f5f</td>\n",
       "    </tr>\n",
       "    <tr>\n",
       "      <th>37061750</th>\n",
       "      <td>37061750</td>\n",
       "      <td>Bürgerstraße 77, Pieschen-Süd, Dresden</td>\n",
       "      <td>8</td>\n",
       "      <td>[Einbauküche]</td>\n",
       "      <td>Frau K. Stelmaszyk</td>\n",
       "      <td>True</td>\n",
       "      <td>NaN</td>\n",
       "      <td>Wohnung</td>\n",
       "      <td>336 €</td>\n",
       "      <td>NaN</td>\n",
       "      <td>...</td>\n",
       "      <td>13.71924</td>\n",
       "      <td>Miete</td>\n",
       "      <td>01127</td>\n",
       "      <td>Dresden</td>\n",
       "      <td>Pieschen-Süd</td>\n",
       "      <td>Gemütliche 2-Zi.-Wohnung mit Einbauküche</td>\n",
       "      <td>48 m²</td>\n",
       "      <td>2</td>\n",
       "      <td>False</td>\n",
       "      <td>f176e6d5-ae92-3950-a10b-63809cddaeb9</td>\n",
       "    </tr>\n",
       "  </tbody>\n",
       "</table>\n",
       "<p>5 rows × 21 columns</p>\n",
       "</div>"
      ],
      "text/plain": [
       "                ID                                           Adresse  Bilder  \\\n",
       "ID                                                                             \n",
       "32158558  32158558                                    Cotta, Dresden      12   \n",
       "33436307  33436307                 Leuckartstraße 4, Kaditz, Dresden       6   \n",
       "34342048  34342048        Reisewitzer Straße 66, Löbtau-Süd, Dresden       6   \n",
       "36275407  36275407  Pfotenhauer Straße 78, Johannstadt-Nord, Dresden       5   \n",
       "37061750  37061750            Bürgerstraße 77, Pieschen-Süd, Dresden       8   \n",
       "\n",
       "               Features                From Grundgriss Grundstück  \\\n",
       "ID                                                                  \n",
       "32158558  [Einbauküche]   Frau Sabine Socha       True        NaN   \n",
       "33436307       [Garten]      Frau K. Heller      False        NaN   \n",
       "34342048  [Einbauküche]  Frau K. Stelmaszyk       True        NaN   \n",
       "36275407  [Einbauküche]      Frau M. Müller       True        NaN   \n",
       "37061750  [Einbauküche]  Frau K. Stelmaszyk       True        NaN   \n",
       "\n",
       "         Haus/Wohnung Kaltmiete Kaufpreis  \\\n",
       "ID                                          \n",
       "32158558      Wohnung     395 €       NaN   \n",
       "33436307      Wohnung     375 €       NaN   \n",
       "34342048      Wohnung     475 €       NaN   \n",
       "36275407      Wohnung     257 €       NaN   \n",
       "37061750      Wohnung     336 €       NaN   \n",
       "\n",
       "                          ...                        Lon  Miete/Kauf    PLZ  \\\n",
       "ID                        ...                                                 \n",
       "32158558                  ...                        NaN       Miete  01157   \n",
       "33436307                  ...                   13.70031       Miete  01139   \n",
       "34342048                  ...                   13.70182       Miete  01159   \n",
       "36275407                  ...                   13.77354       Miete  01307   \n",
       "37061750                  ...                   13.71924       Miete  01127   \n",
       "\n",
       "            Stadt         Stadtteil  \\\n",
       "ID                                    \n",
       "32158558  Dresden             Cotta   \n",
       "33436307  Dresden            Kaditz   \n",
       "34342048  Dresden        Löbtau-Süd   \n",
       "36275407  Dresden  Johannstadt-Nord   \n",
       "37061750  Dresden      Pieschen-Süd   \n",
       "\n",
       "                                                      Titel Wohnfläche Zimmer  \\\n",
       "ID                                                                              \n",
       "32158558  Sonn. ruh. 2-RW m. Wohnküche und EBK, 25 m² gr...      60 m²      2   \n",
       "33436307                         Ruhe und Sonne am Elbepark      55 m²      2   \n",
       "34342048  Schöne 3-Zimmerwohnung im sanierten Altbau mit...      66 m²      3   \n",
       "36275407  Hübsche Singlewohnung mit hochwertiger Ausstat...      27 m²      1   \n",
       "37061750           Gemütliche 2-Zi.-Wohnung mit Einbauküche      48 m²      2   \n",
       "\n",
       "         von privat                             From_UUID  \n",
       "ID                                                         \n",
       "32158558      False  e1b44548-d76b-39d6-a168-11eedfebe535  \n",
       "33436307      False  d2341837-abcd-3fb1-9976-0fe5445e5eff  \n",
       "34342048      False  f176e6d5-ae92-3950-a10b-63809cddaeb9  \n",
       "36275407      False  9006fd9e-e9fb-3f05-a584-b641c55f5f5f  \n",
       "37061750      False  f176e6d5-ae92-3950-a10b-63809cddaeb9  \n",
       "\n",
       "[5 rows x 21 columns]"
      ]
     },
     "execution_count": 10,
     "metadata": {},
     "output_type": "execute_result"
    }
   ],
   "source": [
    "data.head()"
   ]
  },
  {
   "cell_type": "markdown",
   "metadata": {},
   "source": [
    "## Daten Cleanen"
   ]
  },
  {
   "cell_type": "markdown",
   "metadata": {},
   "source": [
    "### Preise cleanen"
   ]
  },
  {
   "cell_type": "code",
   "execution_count": 11,
   "metadata": {
    "collapsed": true
   },
   "outputs": [],
   "source": [
    "def preiscleaner(preis, mio=False):\n",
    "    #print preis\n",
    "    try:\n",
    "        p = preis.split()\n",
    "        p = float(p[0].replace('.', '').replace(',','.'))\n",
    "        if mio:\n",
    "            return p/1e6\n",
    "        else:\n",
    "            return int(p)\n",
    "    except:\n",
    "        return preis"
   ]
  },
  {
   "cell_type": "code",
   "execution_count": 12,
   "metadata": {
    "collapsed": false
   },
   "outputs": [],
   "source": [
    "data['Kaufpreis'] = data['Kaufpreis'].apply(preiscleaner, mio=True)\n",
    "data['Kaltmiete'] = data['Kaltmiete'].apply(preiscleaner)"
   ]
  },
  {
   "cell_type": "code",
   "execution_count": null,
   "metadata": {
    "collapsed": false
   },
   "outputs": [],
   "source": []
  },
  {
   "cell_type": "markdown",
   "metadata": {
    "collapsed": false
   },
   "source": [
    "### Flächen cleanen"
   ]
  },
  {
   "cell_type": "code",
   "execution_count": 13,
   "metadata": {
    "collapsed": true
   },
   "outputs": [],
   "source": [
    "def squaremetercleaner(squaremeter):\n",
    "    #print squaremeter\n",
    "    try:\n",
    "        m = squaremeter.split()\n",
    "        m = float(m[0].replace(',', '.'))\n",
    "        return int(m)\n",
    "    except:\n",
    "        return 0.0    "
   ]
  },
  {
   "cell_type": "code",
   "execution_count": 14,
   "metadata": {
    "collapsed": false
   },
   "outputs": [],
   "source": [
    "data[u'Wohnfläche'] = data[u'Wohnfläche'].apply(squaremetercleaner)"
   ]
  },
  {
   "cell_type": "markdown",
   "metadata": {},
   "source": [
    "### Zimmeranzahl"
   ]
  },
  {
   "cell_type": "code",
   "execution_count": 15,
   "metadata": {
    "collapsed": false
   },
   "outputs": [],
   "source": [
    "data[u'Zimmer'] = data[u'Zimmer'].str.replace(',','.').astype('float')"
   ]
  },
  {
   "cell_type": "code",
   "execution_count": 16,
   "metadata": {
    "collapsed": false
   },
   "outputs": [
    {
     "data": {
      "text/html": [
       "<div>\n",
       "<table border=\"1\" class=\"dataframe\">\n",
       "  <thead>\n",
       "    <tr style=\"text-align: right;\">\n",
       "      <th></th>\n",
       "      <th>ID</th>\n",
       "      <th>Adresse</th>\n",
       "      <th>Bilder</th>\n",
       "      <th>Features</th>\n",
       "      <th>From</th>\n",
       "      <th>Grundgriss</th>\n",
       "      <th>Grundstück</th>\n",
       "      <th>Haus/Wohnung</th>\n",
       "      <th>Kaltmiete</th>\n",
       "      <th>Kaufpreis</th>\n",
       "      <th>...</th>\n",
       "      <th>Lon</th>\n",
       "      <th>Miete/Kauf</th>\n",
       "      <th>PLZ</th>\n",
       "      <th>Stadt</th>\n",
       "      <th>Stadtteil</th>\n",
       "      <th>Titel</th>\n",
       "      <th>Wohnfläche</th>\n",
       "      <th>Zimmer</th>\n",
       "      <th>von privat</th>\n",
       "      <th>From_UUID</th>\n",
       "    </tr>\n",
       "    <tr>\n",
       "      <th>ID</th>\n",
       "      <th></th>\n",
       "      <th></th>\n",
       "      <th></th>\n",
       "      <th></th>\n",
       "      <th></th>\n",
       "      <th></th>\n",
       "      <th></th>\n",
       "      <th></th>\n",
       "      <th></th>\n",
       "      <th></th>\n",
       "      <th></th>\n",
       "      <th></th>\n",
       "      <th></th>\n",
       "      <th></th>\n",
       "      <th></th>\n",
       "      <th></th>\n",
       "      <th></th>\n",
       "      <th></th>\n",
       "      <th></th>\n",
       "      <th></th>\n",
       "      <th></th>\n",
       "    </tr>\n",
       "  </thead>\n",
       "  <tbody>\n",
       "    <tr>\n",
       "      <th>32158558</th>\n",
       "      <td>32158558</td>\n",
       "      <td>Cotta, Dresden</td>\n",
       "      <td>12</td>\n",
       "      <td>[Einbauküche]</td>\n",
       "      <td>Frau Sabine Socha</td>\n",
       "      <td>True</td>\n",
       "      <td>NaN</td>\n",
       "      <td>Wohnung</td>\n",
       "      <td>395</td>\n",
       "      <td>NaN</td>\n",
       "      <td>...</td>\n",
       "      <td>NaN</td>\n",
       "      <td>Miete</td>\n",
       "      <td>01157</td>\n",
       "      <td>Dresden</td>\n",
       "      <td>Cotta</td>\n",
       "      <td>Sonn. ruh. 2-RW m. Wohnküche und EBK, 25 m² gr...</td>\n",
       "      <td>60</td>\n",
       "      <td>2</td>\n",
       "      <td>False</td>\n",
       "      <td>e1b44548-d76b-39d6-a168-11eedfebe535</td>\n",
       "    </tr>\n",
       "    <tr>\n",
       "      <th>33436307</th>\n",
       "      <td>33436307</td>\n",
       "      <td>Leuckartstraße 4, Kaditz, Dresden</td>\n",
       "      <td>6</td>\n",
       "      <td>[Garten]</td>\n",
       "      <td>Frau K. Heller</td>\n",
       "      <td>False</td>\n",
       "      <td>NaN</td>\n",
       "      <td>Wohnung</td>\n",
       "      <td>375</td>\n",
       "      <td>NaN</td>\n",
       "      <td>...</td>\n",
       "      <td>13.70031</td>\n",
       "      <td>Miete</td>\n",
       "      <td>01139</td>\n",
       "      <td>Dresden</td>\n",
       "      <td>Kaditz</td>\n",
       "      <td>Ruhe und Sonne am Elbepark</td>\n",
       "      <td>55</td>\n",
       "      <td>2</td>\n",
       "      <td>False</td>\n",
       "      <td>d2341837-abcd-3fb1-9976-0fe5445e5eff</td>\n",
       "    </tr>\n",
       "    <tr>\n",
       "      <th>34342048</th>\n",
       "      <td>34342048</td>\n",
       "      <td>Reisewitzer Straße 66, Löbtau-Süd, Dresden</td>\n",
       "      <td>6</td>\n",
       "      <td>[Einbauküche]</td>\n",
       "      <td>Frau K. Stelmaszyk</td>\n",
       "      <td>True</td>\n",
       "      <td>NaN</td>\n",
       "      <td>Wohnung</td>\n",
       "      <td>475</td>\n",
       "      <td>NaN</td>\n",
       "      <td>...</td>\n",
       "      <td>13.70182</td>\n",
       "      <td>Miete</td>\n",
       "      <td>01159</td>\n",
       "      <td>Dresden</td>\n",
       "      <td>Löbtau-Süd</td>\n",
       "      <td>Schöne 3-Zimmerwohnung im sanierten Altbau mit...</td>\n",
       "      <td>66</td>\n",
       "      <td>3</td>\n",
       "      <td>False</td>\n",
       "      <td>f176e6d5-ae92-3950-a10b-63809cddaeb9</td>\n",
       "    </tr>\n",
       "    <tr>\n",
       "      <th>36275407</th>\n",
       "      <td>36275407</td>\n",
       "      <td>Pfotenhauer Straße 78, Johannstadt-Nord, Dresden</td>\n",
       "      <td>5</td>\n",
       "      <td>[Einbauküche]</td>\n",
       "      <td>Frau M. Müller</td>\n",
       "      <td>True</td>\n",
       "      <td>NaN</td>\n",
       "      <td>Wohnung</td>\n",
       "      <td>257</td>\n",
       "      <td>NaN</td>\n",
       "      <td>...</td>\n",
       "      <td>13.77354</td>\n",
       "      <td>Miete</td>\n",
       "      <td>01307</td>\n",
       "      <td>Dresden</td>\n",
       "      <td>Johannstadt-Nord</td>\n",
       "      <td>Hübsche Singlewohnung mit hochwertiger Ausstat...</td>\n",
       "      <td>27</td>\n",
       "      <td>1</td>\n",
       "      <td>False</td>\n",
       "      <td>9006fd9e-e9fb-3f05-a584-b641c55f5f5f</td>\n",
       "    </tr>\n",
       "    <tr>\n",
       "      <th>37061750</th>\n",
       "      <td>37061750</td>\n",
       "      <td>Bürgerstraße 77, Pieschen-Süd, Dresden</td>\n",
       "      <td>8</td>\n",
       "      <td>[Einbauküche]</td>\n",
       "      <td>Frau K. Stelmaszyk</td>\n",
       "      <td>True</td>\n",
       "      <td>NaN</td>\n",
       "      <td>Wohnung</td>\n",
       "      <td>336</td>\n",
       "      <td>NaN</td>\n",
       "      <td>...</td>\n",
       "      <td>13.71924</td>\n",
       "      <td>Miete</td>\n",
       "      <td>01127</td>\n",
       "      <td>Dresden</td>\n",
       "      <td>Pieschen-Süd</td>\n",
       "      <td>Gemütliche 2-Zi.-Wohnung mit Einbauküche</td>\n",
       "      <td>48</td>\n",
       "      <td>2</td>\n",
       "      <td>False</td>\n",
       "      <td>f176e6d5-ae92-3950-a10b-63809cddaeb9</td>\n",
       "    </tr>\n",
       "  </tbody>\n",
       "</table>\n",
       "<p>5 rows × 21 columns</p>\n",
       "</div>"
      ],
      "text/plain": [
       "                ID                                           Adresse  Bilder  \\\n",
       "ID                                                                             \n",
       "32158558  32158558                                    Cotta, Dresden      12   \n",
       "33436307  33436307                 Leuckartstraße 4, Kaditz, Dresden       6   \n",
       "34342048  34342048        Reisewitzer Straße 66, Löbtau-Süd, Dresden       6   \n",
       "36275407  36275407  Pfotenhauer Straße 78, Johannstadt-Nord, Dresden       5   \n",
       "37061750  37061750            Bürgerstraße 77, Pieschen-Süd, Dresden       8   \n",
       "\n",
       "               Features                From Grundgriss Grundstück  \\\n",
       "ID                                                                  \n",
       "32158558  [Einbauküche]   Frau Sabine Socha       True        NaN   \n",
       "33436307       [Garten]      Frau K. Heller      False        NaN   \n",
       "34342048  [Einbauküche]  Frau K. Stelmaszyk       True        NaN   \n",
       "36275407  [Einbauküche]      Frau M. Müller       True        NaN   \n",
       "37061750  [Einbauküche]  Frau K. Stelmaszyk       True        NaN   \n",
       "\n",
       "         Haus/Wohnung  Kaltmiete  Kaufpreis  \\\n",
       "ID                                            \n",
       "32158558      Wohnung        395        NaN   \n",
       "33436307      Wohnung        375        NaN   \n",
       "34342048      Wohnung        475        NaN   \n",
       "36275407      Wohnung        257        NaN   \n",
       "37061750      Wohnung        336        NaN   \n",
       "\n",
       "                          ...                        Lon  Miete/Kauf    PLZ  \\\n",
       "ID                        ...                                                 \n",
       "32158558                  ...                        NaN       Miete  01157   \n",
       "33436307                  ...                   13.70031       Miete  01139   \n",
       "34342048                  ...                   13.70182       Miete  01159   \n",
       "36275407                  ...                   13.77354       Miete  01307   \n",
       "37061750                  ...                   13.71924       Miete  01127   \n",
       "\n",
       "            Stadt         Stadtteil  \\\n",
       "ID                                    \n",
       "32158558  Dresden             Cotta   \n",
       "33436307  Dresden            Kaditz   \n",
       "34342048  Dresden        Löbtau-Süd   \n",
       "36275407  Dresden  Johannstadt-Nord   \n",
       "37061750  Dresden      Pieschen-Süd   \n",
       "\n",
       "                                                      Titel Wohnfläche  \\\n",
       "ID                                                                       \n",
       "32158558  Sonn. ruh. 2-RW m. Wohnküche und EBK, 25 m² gr...         60   \n",
       "33436307                         Ruhe und Sonne am Elbepark         55   \n",
       "34342048  Schöne 3-Zimmerwohnung im sanierten Altbau mit...         66   \n",
       "36275407  Hübsche Singlewohnung mit hochwertiger Ausstat...         27   \n",
       "37061750           Gemütliche 2-Zi.-Wohnung mit Einbauküche         48   \n",
       "\n",
       "          Zimmer  von privat                             From_UUID  \n",
       "ID                                                                  \n",
       "32158558       2       False  e1b44548-d76b-39d6-a168-11eedfebe535  \n",
       "33436307       2       False  d2341837-abcd-3fb1-9976-0fe5445e5eff  \n",
       "34342048       3       False  f176e6d5-ae92-3950-a10b-63809cddaeb9  \n",
       "36275407       1       False  9006fd9e-e9fb-3f05-a584-b641c55f5f5f  \n",
       "37061750       2       False  f176e6d5-ae92-3950-a10b-63809cddaeb9  \n",
       "\n",
       "[5 rows x 21 columns]"
      ]
     },
     "execution_count": 16,
     "metadata": {},
     "output_type": "execute_result"
    }
   ],
   "source": [
    "data.head()"
   ]
  },
  {
   "cell_type": "markdown",
   "metadata": {},
   "source": [
    "## Verkaufsvolumen"
   ]
  },
  {
   "cell_type": "code",
   "execution_count": 17,
   "metadata": {
    "collapsed": false
   },
   "outputs": [],
   "source": [
    "verkaufgroup = data[data['Miete/Kauf']=='Kauf'].groupby('From').sum()"
   ]
  },
  {
   "cell_type": "code",
   "execution_count": 18,
   "metadata": {
    "collapsed": false
   },
   "outputs": [],
   "source": [
    "verkaufgroup.sort('Kaufpreis', ascending=True, inplace=True)\n",
    "verkaufgroup['Kaufpreis'].dropna(inplace=True)"
   ]
  },
  {
   "cell_type": "code",
   "execution_count": 19,
   "metadata": {
    "collapsed": false
   },
   "outputs": [
    {
     "data": {
      "text/plain": [
       "From\n",
       "Herr André Markwart              8.030873\n",
       " Gernot Poppe                    8.538303\n",
       " Richert & Oertel Immobilien    12.569307\n",
       " Lutz Schiel                    15.102836\n",
       " Gerd Friedemann                17.738563\n",
       "Frau Nicole Ulbricht            19.949706\n",
       "Herr André  Findeisen           23.394700\n",
       "Frau Alexandra Gärtner          30.325000\n",
       " Florian Austel                 32.919235\n",
       " IMMOVISTA GmbH                 45.503000\n",
       "Name: Kaufpreis, dtype: float64"
      ]
     },
     "execution_count": 19,
     "metadata": {},
     "output_type": "execute_result"
    }
   ],
   "source": [
    "verkaufgroup['Kaufpreis'].tail(10)"
   ]
  },
  {
   "cell_type": "code",
   "execution_count": 20,
   "metadata": {
    "collapsed": false
   },
   "outputs": [
    {
     "data": {
      "image/png": "[encoded data removed]",
      "text/plain": [
       "<matplotlib.figure.Figure at 0x109e7e490>"
      ]
     },
     "metadata": {},
     "output_type": "display_data"
    }
   ],
   "source": [
    "verkaufgroup['Kaufpreis'][-10:].plot(kind='barh', title='Volumen Kauf-Immobilien in Dresden, Gruppiert nach Anbieter')\n",
    "\n",
    "plt.xlabel(u'mio €')\n",
    "plt.tight_layout()\n",
    "plt.savefig('Groupby-Anbieter-KaufpreisSumme.png', dpi=150)"
   ]
  },
  {
   "cell_type": "markdown",
   "metadata": {},
   "source": [
    "## Anzahl an Immobilien"
   ]
  },
  {
   "cell_type": "code",
   "execution_count": 21,
   "metadata": {
    "collapsed": false
   },
   "outputs": [],
   "source": [
    "fromgroup = data.groupby(['From','Miete/Kauf']).count()"
   ]
  },
  {
   "cell_type": "code",
   "execution_count": 22,
   "metadata": {
    "collapsed": false
   },
   "outputs": [],
   "source": [
    "fromgroup.sort('ID', ascending=True, inplace=True)"
   ]
  },
  {
   "cell_type": "code",
   "execution_count": 23,
   "metadata": {
    "collapsed": false
   },
   "outputs": [
    {
     "data": {
      "image/png": "[encoded data removed]",
      "text/plain": [
       "<matplotlib.figure.Figure at 0x10a15df50>"
      ]
     },
     "metadata": {},
     "output_type": "display_data"
    }
   ],
   "source": [
    "fromgroup['ID'][-10:].plot(kind='barh', title='Angebotene Immobilien in Dresden, Gruppiert nach Anbieter')\n",
    "\n",
    "plt.xlabel('Anzahl')\n",
    "plt.tight_layout()\n",
    "plt.savefig('Groupby-Anbieter.png', dpi=150)"
   ]
  },
  {
   "cell_type": "markdown",
   "metadata": {},
   "source": [
    "# Immopreis Predictor"
   ]
  },
  {
   "cell_type": "code",
   "execution_count": 24,
   "metadata": {
    "collapsed": false
   },
   "outputs": [],
   "source": [
    "from sklearn.metrics import r2_score\n",
    "from sklearn import linear_model\n",
    "from sklearn.tree import DecisionTreeRegressor\n",
    "from sklearn import preprocessing"
   ]
  },
  {
   "cell_type": "markdown",
   "metadata": {},
   "source": []
  },
  {
   "cell_type": "code",
   "execution_count": 25,
   "metadata": {
    "collapsed": false
   },
   "outputs": [],
   "source": [
    "mietwohnungen = data[(data['Miete/Kauf']=='Miete') & (data['Haus/Wohnung']=='Wohnung')]\n",
    "kaufwohnungen = data[(data['Miete/Kauf']=='Kauf') & (data['Haus/Wohnung']=='Wohnung')]"
   ]
  },
  {
   "cell_type": "markdown",
   "metadata": {},
   "source": [
    "Kaltmieten über 5000€ sind unrealistisch und sind Fehler bei Eingabe auf immoscout24.de (Kauf statt Miete), die werfen wir raus."
   ]
  },
  {
   "cell_type": "code",
   "execution_count": 26,
   "metadata": {
    "collapsed": false
   },
   "outputs": [],
   "source": [
    "mietwohnungen = mietwohnungen[mietwohnungen.Kaltmiete < 5000.0]"
   ]
  },
  {
   "cell_type": "markdown",
   "metadata": {
    "collapsed": false
   },
   "source": [
    "## Verkaufspreis schätzen"
   ]
  },
  {
   "cell_type": "code",
   "execution_count": null,
   "metadata": {
    "collapsed": false
   },
   "outputs": [],
   "source": []
  },
  {
   "cell_type": "code",
   "execution_count": 27,
   "metadata": {
    "collapsed": true
   },
   "outputs": [],
   "source": [
    "X = pd.concat([kaufwohnungen[[u'Wohnfläche', u'Zimmer']], pd.get_dummies(kaufwohnungen[u'Stadtteil'])], axis=1)\n",
    "y = kaufwohnungen['Kaufpreis']"
   ]
  },
  {
   "cell_type": "code",
   "execution_count": 28,
   "metadata": {
    "collapsed": false
   },
   "outputs": [],
   "source": [
    "# Robustly fit linear model with RANSAC algorithm\n",
    "regressor = linear_model.RANSACRegressor(linear_model.LinearRegression())"
   ]
  },
  {
   "cell_type": "code",
   "execution_count": 29,
   "metadata": {
    "collapsed": false
   },
   "outputs": [
    {
     "data": {
      "text/plain": [
       "RANSACRegressor(base_estimator=LinearRegression(copy_X=True, fit_intercept=True, n_jobs=1, normalize=False),\n",
       "        is_data_valid=None, is_model_valid=None, max_trials=100,\n",
       "        min_samples=None, random_state=None, residual_metric=None,\n",
       "        residual_threshold=None, stop_n_inliers=inf, stop_probability=0.99,\n",
       "        stop_score=inf)"
      ]
     },
     "execution_count": 29,
     "metadata": {},
     "output_type": "execute_result"
    }
   ],
   "source": [
    "regressor.fit(X,y)"
   ]
  },
  {
   "cell_type": "code",
   "execution_count": 30,
   "metadata": {
    "collapsed": false
   },
   "outputs": [
    {
     "name": "stdout",
     "output_type": "stream",
     "text": [
      "12.4% der Wohnungen als Ausreißer identifiziert\n"
     ]
    }
   ],
   "source": [
    "inlier_mask = regressor.inlier_mask_\n",
    "outlier_mask = np.logical_not(inlier_mask)\n",
    "print(u'%.1f%% der Wohnungen als Ausreißer identifiziert' % (sum(outlier_mask)*100.0/(sum(outlier_mask)+sum(inlier_mask))))"
   ]
  },
  {
   "cell_type": "code",
   "execution_count": 31,
   "metadata": {
    "collapsed": false
   },
   "outputs": [
    {
     "name": "stderr",
     "output_type": "stream",
     "text": [
      "/Users/paul/anaconda/lib/python2.7/site-packages/IPython/kernel/__main__.py:2: SettingWithCopyWarning: \n",
      "A value is trying to be set on a copy of a slice from a DataFrame.\n",
      "Try using .loc[row_indexer,col_indexer] = value instead\n",
      "\n",
      "See the the caveats in the documentation: http://pandas.pydata.org/pandas-docs/stable/indexing.html#indexing-view-versus-copy\n",
      "  from IPython.kernel.zmq import kernelapp as app\n"
     ]
    }
   ],
   "source": [
    "y_pred = regressor.predict(X)\n",
    "kaufwohnungen[u'Kaufpreis (geschätzt)'] = y_pred"
   ]
  },
  {
   "cell_type": "code",
   "execution_count": 32,
   "metadata": {
    "collapsed": false
   },
   "outputs": [],
   "source": [
    "r2_ransac = r2_score(y[inlier_mask], y_pred[inlier_mask])"
   ]
  },
  {
   "cell_type": "code",
   "execution_count": 33,
   "metadata": {
    "collapsed": false
   },
   "outputs": [
    {
     "data": {
      "image/png": "[encoded data removed]",
      "text/plain": [
       "<matplotlib.figure.Figure at 0x10ab54590>"
      ]
     },
     "metadata": {},
     "output_type": "display_data"
    }
   ],
   "source": [
    "sns.regplot(kaufwohnungen['Kaufpreis'][inlier_mask],\n",
    "            kaufwohnungen[u'Kaufpreis (geschätzt)'][inlier_mask])\n",
    "plt.scatter(kaufwohnungen['Kaufpreis'][outlier_mask],\n",
    "            kaufwohnungen[u'Kaufpreis (geschätzt)'][outlier_mask],\n",
    "            alpha=0.4,\n",
    "            c='r')\n",
    "\n",
    "plt.title(u'Schätzung des Kaufpreises (in mio €) von Eigentumswohnungen in Dresden\\n(Stadtteil, Anzahl Zimmer, Wohnfläche)')\n",
    "plt.text(0.85, 0.95, r'$R^2=%.2f$' % r2_ransac)\n",
    "plt.xlim(0, 1.1)\n",
    "plt.ylim(0, 1.1)\n",
    "plt.tight_layout()\n",
    "plt.savefig('LinReg-Kauf-Wohnung.png', dpi=150)"
   ]
  },
  {
   "cell_type": "code",
   "execution_count": 34,
   "metadata": {
    "collapsed": false
   },
   "outputs": [
    {
     "data": {
      "text/plain": [
       "Index([                          u'Albertstadt',\n",
       "                                   u'Blasewitz',\n",
       "                                   u'Briesnitz',\n",
       "                        u'Bühlau/Weißer Hirsch',\n",
       "                          u'Coschütz/Gittersee',\n",
       "             u'Cossebaude/Mobschatz/Oberwartha',\n",
       "                                       u'Cotta',\n",
       "                              u'Friedrichstadt',\n",
       "                          u'Gompitz/Altfranken',\n",
       "                                 u'Gorbitz-Ost',\n",
       "                             u'Großzschachwitz',\n",
       "                                       u'Gruna',\n",
       "                         u'Hellerau/Wilschdorf',\n",
       "                         u'Hosterwitz/Pillnitz',\n",
       "                             u'Innere Altstadt',\n",
       "                             u'Innere Neustadt',\n",
       "                            u'Johannstadt-Nord',\n",
       "                             u'Johannstadt-Süd',\n",
       "                                      u'Kaditz',\n",
       "                       u'Kleinpestitz/Mockritz',\n",
       "                            u'Kleinzschachwitz',\n",
       "                                   u'Klotzsche',\n",
       "                        u'Langebrück/Schönborn',\n",
       "                                   u'Laubegast',\n",
       "                          u'Leipziger Vorstadt',\n",
       "                                      u'Leuben',\n",
       "                           u'Leubnitz-Neuostra',\n",
       "                                    u'Lockwitz',\n",
       "                          u'Loschwitz/Wachwitz',\n",
       "                                 u'Löbtau-Nord',\n",
       "                                  u'Löbtau-Süd',\n",
       "                                     u'Mickten',\n",
       "                                    u'Naußlitz',\n",
       "                               u'Niedersedlitz',\n",
       "                  u'Pieschen-Nord/Trachenberge',\n",
       "                                u'Pieschen-Süd',\n",
       "                                      u'Plauen',\n",
       "                                u'Prohlis-Nord',\n",
       "                         u'Radeberger Vorstadt',\n",
       "                                       u'Reick',\n",
       "                        u'Räcknitz/Zschertnitz',\n",
       "                             u'Seevorstadt-Ost',\n",
       "                            u'Seidnitz/Dobritz',\n",
       "                                    u'Strehlen',\n",
       "                                u'Striesen-Ost',\n",
       "                                u'Striesen-Süd',\n",
       "                               u'Striesen-West',\n",
       "                             u'Südvorstadt-Ost',\n",
       "                            u'Südvorstadt-West',\n",
       "                     u'Tolkewitz/Seidnitz-Nord',\n",
       "                                     u'Trachau',\n",
       "                                    u'Weixdorf',\n",
       "                                      u'Weißig',\n",
       "       u'Wilsdruffer Vorstadt/Seevorstadt-West',\n",
       "                u'Äußere Neustadt (Antonstadt)'],\n",
       "      dtype='object')"
      ]
     },
     "execution_count": 34,
     "metadata": {},
     "output_type": "execute_result"
    }
   ],
   "source": [
    "X.columns[2:]"
   ]
  },
  {
   "cell_type": "code",
   "execution_count": 70,
   "metadata": {
    "collapsed": false
   },
   "outputs": [
    {
     "data": {
      "text/plain": [
       "61"
      ]
     },
     "execution_count": 70,
     "metadata": {},
     "output_type": "execute_result"
    }
   ],
   "source": [
    "len(stadtteile)"
   ]
  },
  {
   "cell_type": "code",
   "execution_count": 115,
   "metadata": {
    "collapsed": false
   },
   "outputs": [
    {
     "name": "stdout",
     "output_type": "stream",
     "text": [
      "✓ Albertstadt\n",
      "✓ Blasewitz\n",
      "✓ Briesnitz\n",
      "✓ Bühlau/Weißer Hirsch\n",
      "✓ Coschütz/Gittersee\n",
      "✓ Cossebaude/Mobschatz/Oberwartha\n",
      "✓ Cotta\n",
      "✓ Friedrichstadt\n",
      "✓ Gompitz/Altfranken\n",
      "✓ Gorbitz-Ost\n",
      "✓ Großzschachwitz\n",
      "✓ Gruna\n",
      "✓ Hellerau/Wilschdorf\n",
      "✓ Hosterwitz/Pillnitz\n",
      "✓ Innere Altstadt\n",
      "✓ Innere Neustadt\n",
      "✓ Johannstadt-Nord\n",
      "✓ Johannstadt-Süd\n",
      "✓ Kaditz\n",
      "✓ Kleinpestitz/Mockritz\n",
      "✓ Kleinzschachwitz\n",
      "✓ Klotzsche\n",
      "✓ Langebrück/Schönborn\n",
      "✓ Laubegast\n",
      "✓ Leipziger Vorstadt\n",
      "✓ Leuben\n",
      "✓ Leubnitz-Neuostra\n",
      "✓ Lockwitz\n",
      "✓ Loschwitz/Wachwitz\n",
      "✓ Löbtau-Nord\n",
      "✓ Löbtau-Süd\n",
      "✓ Mickten\n",
      "✓ Naußlitz\n",
      "✓ Niedersedlitz\n",
      "✓ Pieschen-Nord/Trachenberge\n",
      "✓ Pieschen-Süd\n",
      "✓ Plauen\n",
      "✓ Prohlis-Nord\n",
      "✓ Radeberger Vorstadt\n",
      "✓ Reick\n",
      "✓ Räcknitz/Zschertnitz\n",
      "✓ Seevorstadt-Ost\n",
      "✓ Seidnitz/Dobritz\n",
      "✓ Strehlen\n",
      "✓ Striesen-Ost\n",
      "✓ Striesen-Süd\n",
      "✓ Striesen-West\n",
      "✓ Südvorstadt-Ost\n",
      "✓ Südvorstadt-West\n",
      "✓ Tolkewitz/Seidnitz-Nord\n",
      "✓ Trachau\n",
      "✓ Weixdorf\n",
      "✓ Weißig\n",
      "✓ Wilsdruffer Vorstadt/Seevorstadt-West\n",
      "✓ Äußere Neustadt (Antonstadt)\n"
     ]
    }
   ],
   "source": [
    "# Immoscout Datensatz durch gehen und schauen,\n",
    "# ob die Stadtteile auch den Namen der offiziellen\n",
    "# Stadtteile tragen\n",
    "for stadtteil in X.columns[2:]:\n",
    "    # Da bei einigen nur der Beginn der Namen gleich ist,\n",
    "    # müssen wir leider alle durch gehen :)\n",
    "    \n",
    "    \n",
    "    \n",
    "    print(u'✓ %s' % (stadtteil))     "
   ]
  },
  {
   "cell_type": "code",
   "execution_count": null,
   "metadata": {
    "collapsed": true
   },
   "outputs": [],
   "source": []
  },
  {
   "cell_type": "code",
   "execution_count": null,
   "metadata": {
    "collapsed": true
   },
   "outputs": [],
   "source": []
  },
  {
   "cell_type": "code",
   "execution_count": null,
   "metadata": {
    "collapsed": true
   },
   "outputs": [],
   "source": []
  },
  {
   "cell_type": "code",
   "execution_count": 246,
   "metadata": {
    "collapsed": false
   },
   "outputs": [
    {
     "data": {
      "text/plain": [
       "Index([                           u'Wohnfläche',\n",
       "                                      u'Zimmer',\n",
       "                                  u' Blasewitz',\n",
       "                                  u' Briesnitz',\n",
       "                       u' Bühlau/Weißer Hirsch',\n",
       "                         u' Coschütz/Gittersee',\n",
       "            u' Cossebaude/Mobschatz/Oberwartha',\n",
       "                                      u' Cotta',\n",
       "                             u' Friedrichstadt',\n",
       "                                u' Gorbitz-Ost', \n",
       "       ...\n",
       "                                u'Striesen-Süd',\n",
       "                               u'Striesen-West',\n",
       "                             u'Südvorstadt-Ost',\n",
       "                            u'Südvorstadt-West',\n",
       "                     u'Tolkewitz/Seidnitz-Nord',\n",
       "                                     u'Trachau',\n",
       "                                    u'Weixdorf',\n",
       "                                      u'Weißig',\n",
       "       u'Wilsdruffer Vorstadt/Seevorstadt-West',\n",
       "                u'Äußere Neustadt (Antonstadt)'],\n",
       "      dtype='object', length=103)"
      ]
     },
     "execution_count": 246,
     "metadata": {},
     "output_type": "execute_result"
    }
   ],
   "source": [
    "X.columns"
   ]
  },
  {
   "cell_type": "code",
   "execution_count": 248,
   "metadata": {
    "collapsed": false
   },
   "outputs": [
    {
     "data": {
      "text/plain": [
       "44.0"
      ]
     },
     "execution_count": 248,
     "metadata": {},
     "output_type": "execute_result"
    }
   ],
   "source": [
    "sum(X[u'Äußere Neustadt (Antonstadt)'])"
   ]
  },
  {
   "cell_type": "code",
   "execution_count": 249,
   "metadata": {
    "collapsed": false
   },
   "outputs": [],
   "source": [
    "X_my = np.zeros(103)\n",
    "X_my[0] = 121.0\n",
    "X_my[1] = 3.0\n",
    "X_my[-1] = 1"
   ]
  },
  {
   "cell_type": "code",
   "execution_count": 250,
   "metadata": {
    "collapsed": false
   },
   "outputs": [],
   "source": [
    "y_my = regressor.predict(X_my)[0][0]"
   ]
  },
  {
   "cell_type": "code",
   "execution_count": 185,
   "metadata": {
    "collapsed": false
   },
   "outputs": [
    {
     "name": "stdout",
     "output_type": "stream",
     "text": [
      "Geschätzter Marktwert: 372.454€\n"
     ]
    }
   ],
   "source": [
    "print('Geschätzter Marktwert: %.3f€' % (1000.0*y_my))"
   ]
  },
  {
   "cell_type": "markdown",
   "metadata": {},
   "source": [
    "## Kaltmiete schätzen\n",
    "\n",
    "### Nur mit Wohnfläche und Anzahl der Zimmer"
   ]
  },
  {
   "cell_type": "code",
   "execution_count": 37,
   "metadata": {
    "collapsed": true
   },
   "outputs": [],
   "source": [
    "X = mietwohnungen[[u'Wohnfläche', u'Zimmer']]\n",
    "y = mietwohnungen['Kaltmiete']"
   ]
  },
  {
   "cell_type": "code",
   "execution_count": 38,
   "metadata": {
    "collapsed": false
   },
   "outputs": [],
   "source": [
    "reg = linear_model.LinearRegression()"
   ]
  },
  {
   "cell_type": "code",
   "execution_count": 39,
   "metadata": {
    "collapsed": false
   },
   "outputs": [
    {
     "data": {
      "text/plain": [
       "LinearRegression(copy_X=True, fit_intercept=True, n_jobs=1, normalize=False)"
      ]
     },
     "execution_count": 39,
     "metadata": {},
     "output_type": "execute_result"
    }
   ],
   "source": [
    "reg.fit(X, y)"
   ]
  },
  {
   "cell_type": "code",
   "execution_count": 40,
   "metadata": {
    "collapsed": false
   },
   "outputs": [],
   "source": [
    "y_pred = reg.predict(X)"
   ]
  },
  {
   "cell_type": "code",
   "execution_count": 41,
   "metadata": {
    "collapsed": true
   },
   "outputs": [],
   "source": [
    "mietwohnungen[u'Kaltmiete geschätzt'] = y_pred"
   ]
  },
  {
   "cell_type": "code",
   "execution_count": 42,
   "metadata": {
    "collapsed": true
   },
   "outputs": [],
   "source": [
    "r_2 = r2_score(y, y_pred)"
   ]
  },
  {
   "cell_type": "code",
   "execution_count": 43,
   "metadata": {
    "collapsed": false
   },
   "outputs": [
    {
     "data": {
      "text/plain": [
       "(0, 3000)"
      ]
     },
     "execution_count": 43,
     "metadata": {},
     "output_type": "execute_result"
    },
    {
     "data": {
      "image/png": "[encoded data removed]",
      "text/plain": [
       "<matplotlib.figure.Figure at 0x109b9bd10>"
      ]
     },
     "metadata": {},
     "output_type": "display_data"
    }
   ],
   "source": [
    "sns.regplot(mietwohnungen['Kaltmiete'] ,mietwohnungen[u'Kaltmiete geschätzt'])\n",
    "plt.title(u'Schätzung der Kaltmiete von Mietwohnungen in Dresden\\n(Anzahl Zimmer, Fläche)')\n",
    "plt.text(2600, 2100, r'$R^2=%.2f$' % r_2)\n",
    "plt.xlim(0, 3000)\n",
    "plt.ylim(0, 3000)"
   ]
  },
  {
   "cell_type": "markdown",
   "metadata": {},
   "source": [
    "### Vorhersage"
   ]
  },
  {
   "cell_type": "code",
   "execution_count": 44,
   "metadata": {
    "collapsed": false
   },
   "outputs": [
    {
     "name": "stdout",
     "output_type": "stream",
     "text": [
      "Kaltmiete für 4R-Wohnung 155m^2 in Dresden: 1292€\n"
     ]
    }
   ],
   "source": [
    "m = 155 # m2\n",
    "z = 4  # Zimmer\n",
    "print('Kaltmiete für %iR-Wohnung %im^2 in Dresden: %i€' % (z, m, reg.predict([m, z])))"
   ]
  },
  {
   "cell_type": "code",
   "execution_count": 45,
   "metadata": {
    "collapsed": false
   },
   "outputs": [
    {
     "name": "stdout",
     "output_type": "stream",
     "text": [
      "Kaltmiete für 2R-Wohnung 40m^2 in Dresden: 265€\n",
      "Kaltmiete für 2R-Wohnung 50m^2 in Dresden: 362€\n",
      "Kaltmiete für 2R-Wohnung 60m^2 in Dresden: 458€\n",
      "Kaltmiete für 2R-Wohnung 70m^2 in Dresden: 554€\n",
      "Kaltmiete für 2R-Wohnung 80m^2 in Dresden: 650€\n",
      "Kaltmiete für 2R-Wohnung 90m^2 in Dresden: 746€\n",
      "Kaltmiete für 2R-Wohnung 100m^2 in Dresden: 843€\n",
      "Kaltmiete für 2R-Wohnung 110m^2 in Dresden: 939€\n",
      "Kaltmiete für 2R-Wohnung 120m^2 in Dresden: 1035€\n",
      "Kaltmiete für 2R-Wohnung 130m^2 in Dresden: 1131€\n",
      "Kaltmiete für 2R-Wohnung 140m^2 in Dresden: 1227€\n",
      "Kaltmiete für 2R-Wohnung 150m^2 in Dresden: 1324€\n",
      "Kaltmiete für 2R-Wohnung 160m^2 in Dresden: 1420€\n",
      "Kaltmiete für 2R-Wohnung 170m^2 in Dresden: 1516€\n",
      "Kaltmiete für 2R-Wohnung 180m^2 in Dresden: 1612€\n",
      "Kaltmiete für 2R-Wohnung 190m^2 in Dresden: 1709€\n",
      "Kaltmiete für 3R-Wohnung 40m^2 in Dresden: 225€\n",
      "Kaltmiete für 3R-Wohnung 50m^2 in Dresden: 322€\n",
      "Kaltmiete für 3R-Wohnung 60m^2 in Dresden: 418€\n",
      "Kaltmiete für 3R-Wohnung 70m^2 in Dresden: 514€\n",
      "Kaltmiete für 3R-Wohnung 80m^2 in Dresden: 610€\n",
      "Kaltmiete für 3R-Wohnung 90m^2 in Dresden: 706€\n",
      "Kaltmiete für 3R-Wohnung 100m^2 in Dresden: 803€\n",
      "Kaltmiete für 3R-Wohnung 110m^2 in Dresden: 899€\n",
      "Kaltmiete für 3R-Wohnung 120m^2 in Dresden: 995€\n",
      "Kaltmiete für 3R-Wohnung 130m^2 in Dresden: 1091€\n",
      "Kaltmiete für 3R-Wohnung 140m^2 in Dresden: 1187€\n",
      "Kaltmiete für 3R-Wohnung 150m^2 in Dresden: 1284€\n",
      "Kaltmiete für 3R-Wohnung 160m^2 in Dresden: 1380€\n",
      "Kaltmiete für 3R-Wohnung 170m^2 in Dresden: 1476€\n",
      "Kaltmiete für 3R-Wohnung 180m^2 in Dresden: 1572€\n",
      "Kaltmiete für 3R-Wohnung 190m^2 in Dresden: 1669€\n",
      "Kaltmiete für 4R-Wohnung 40m^2 in Dresden: 185€\n",
      "Kaltmiete für 4R-Wohnung 50m^2 in Dresden: 282€\n",
      "Kaltmiete für 4R-Wohnung 60m^2 in Dresden: 378€\n",
      "Kaltmiete für 4R-Wohnung 70m^2 in Dresden: 474€\n",
      "Kaltmiete für 4R-Wohnung 80m^2 in Dresden: 570€\n",
      "Kaltmiete für 4R-Wohnung 90m^2 in Dresden: 666€\n",
      "Kaltmiete für 4R-Wohnung 100m^2 in Dresden: 763€\n",
      "Kaltmiete für 4R-Wohnung 110m^2 in Dresden: 859€\n",
      "Kaltmiete für 4R-Wohnung 120m^2 in Dresden: 955€\n",
      "Kaltmiete für 4R-Wohnung 130m^2 in Dresden: 1051€\n",
      "Kaltmiete für 4R-Wohnung 140m^2 in Dresden: 1147€\n",
      "Kaltmiete für 4R-Wohnung 150m^2 in Dresden: 1244€\n",
      "Kaltmiete für 4R-Wohnung 160m^2 in Dresden: 1340€\n",
      "Kaltmiete für 4R-Wohnung 170m^2 in Dresden: 1436€\n",
      "Kaltmiete für 4R-Wohnung 180m^2 in Dresden: 1532€\n",
      "Kaltmiete für 4R-Wohnung 190m^2 in Dresden: 1629€\n",
      "Kaltmiete für 5R-Wohnung 40m^2 in Dresden: 145€\n",
      "Kaltmiete für 5R-Wohnung 50m^2 in Dresden: 242€\n",
      "Kaltmiete für 5R-Wohnung 60m^2 in Dresden: 338€\n",
      "Kaltmiete für 5R-Wohnung 70m^2 in Dresden: 434€\n",
      "Kaltmiete für 5R-Wohnung 80m^2 in Dresden: 530€\n",
      "Kaltmiete für 5R-Wohnung 90m^2 in Dresden: 626€\n",
      "Kaltmiete für 5R-Wohnung 100m^2 in Dresden: 723€\n",
      "Kaltmiete für 5R-Wohnung 110m^2 in Dresden: 819€\n",
      "Kaltmiete für 5R-Wohnung 120m^2 in Dresden: 915€\n",
      "Kaltmiete für 5R-Wohnung 130m^2 in Dresden: 1011€\n",
      "Kaltmiete für 5R-Wohnung 140m^2 in Dresden: 1107€\n",
      "Kaltmiete für 5R-Wohnung 150m^2 in Dresden: 1204€\n",
      "Kaltmiete für 5R-Wohnung 160m^2 in Dresden: 1300€\n",
      "Kaltmiete für 5R-Wohnung 170m^2 in Dresden: 1396€\n",
      "Kaltmiete für 5R-Wohnung 180m^2 in Dresden: 1492€\n",
      "Kaltmiete für 5R-Wohnung 190m^2 in Dresden: 1589€\n"
     ]
    }
   ],
   "source": [
    "for z in range(2, 6):\n",
    "    for m in range(40, 200, 10):\n",
    "        print('Kaltmiete für %iR-Wohnung %im^2 in Dresden: %i€' % (z, m, reg.predict([m, z])))"
   ]
  },
  {
   "cell_type": "markdown",
   "metadata": {},
   "source": [
    "### Zusätzlich noch Lage (Postleitzahl)"
   ]
  },
  {
   "cell_type": "code",
   "execution_count": 46,
   "metadata": {
    "collapsed": true
   },
   "outputs": [],
   "source": [
    "X2 = pd.concat([X, pd.get_dummies(mietwohnungen[u'PLZ'])], axis=1)"
   ]
  },
  {
   "cell_type": "code",
   "execution_count": 47,
   "metadata": {
    "collapsed": false
   },
   "outputs": [],
   "source": [
    "reg2 = linear_model.LinearRegression()"
   ]
  },
  {
   "cell_type": "code",
   "execution_count": 48,
   "metadata": {
    "collapsed": false
   },
   "outputs": [
    {
     "data": {
      "text/plain": [
       "LinearRegression(copy_X=True, fit_intercept=True, n_jobs=1, normalize=False)"
      ]
     },
     "execution_count": 48,
     "metadata": {},
     "output_type": "execute_result"
    }
   ],
   "source": [
    "reg2.fit(X2, y)"
   ]
  },
  {
   "cell_type": "code",
   "execution_count": 49,
   "metadata": {
    "collapsed": false
   },
   "outputs": [],
   "source": [
    "y2_pred = reg2.predict(X2)"
   ]
  },
  {
   "cell_type": "code",
   "execution_count": 50,
   "metadata": {
    "collapsed": true
   },
   "outputs": [],
   "source": [
    "mietwohnungen[u'Kaltmiete geschätzt (mit Lage)'] = y2_pred"
   ]
  },
  {
   "cell_type": "code",
   "execution_count": 51,
   "metadata": {
    "collapsed": true
   },
   "outputs": [],
   "source": [
    "r_22 = r2_score(y, y2_pred)"
   ]
  },
  {
   "cell_type": "code",
   "execution_count": 52,
   "metadata": {
    "collapsed": false
   },
   "outputs": [
    {
     "data": {
      "text/plain": [
       "(0, 3000)"
      ]
     },
     "execution_count": 52,
     "metadata": {},
     "output_type": "execute_result"
    },
    {
     "data": {
      "image/png": "[encoded data removed]",
      "text/plain": [
       "<matplotlib.figure.Figure at 0x10979d690>"
      ]
     },
     "metadata": {},
     "output_type": "display_data"
    }
   ],
   "source": [
    "sns.regplot(mietwohnungen['Kaltmiete'] ,mietwohnungen[u'Kaltmiete geschätzt (mit Lage)'])\n",
    "plt.title(u'Schätzung der Kaltmiete von Mietwohnungen in Dresden\\n(Lage, Anzahl Zimmer, Fläche)')\n",
    "plt.text(2600, 2100, r'$R^2=%.2f$' % r_22)\n",
    "plt.xlim(0, 3000)\n",
    "plt.ylim(0, 3000)"
   ]
  },
  {
   "cell_type": "markdown",
   "metadata": {},
   "source": [
    "## Outlier detection"
   ]
  },
  {
   "cell_type": "code",
   "execution_count": 53,
   "metadata": {
    "collapsed": false
   },
   "outputs": [],
   "source": [
    "# Robustly fit linear model with RANSAC algorithm\n",
    "model_ransac = linear_model.RANSACRegressor(linear_model.LinearRegression(), residual_threshold=250.0)"
   ]
  },
  {
   "cell_type": "code",
   "execution_count": 54,
   "metadata": {
    "collapsed": false
   },
   "outputs": [
    {
     "data": {
      "text/plain": [
       "RANSACRegressor(base_estimator=LinearRegression(copy_X=True, fit_intercept=True, n_jobs=1, normalize=False),\n",
       "        is_data_valid=None, is_model_valid=None, max_trials=100,\n",
       "        min_samples=None, random_state=None, residual_metric=None,\n",
       "        residual_threshold=250.0, stop_n_inliers=inf,\n",
       "        stop_probability=0.99, stop_score=inf)"
      ]
     },
     "execution_count": 54,
     "metadata": {},
     "output_type": "execute_result"
    }
   ],
   "source": [
    "model_ransac.fit(X2, y)"
   ]
  },
  {
   "cell_type": "code",
   "execution_count": 55,
   "metadata": {
    "collapsed": false
   },
   "outputs": [
    {
     "name": "stdout",
     "output_type": "stream",
     "text": [
      "4.7% der Wohnungen als Ausreißer identifiziert\n"
     ]
    }
   ],
   "source": [
    "inlier_mask = model_ransac.inlier_mask_\n",
    "outlier_mask = np.logical_not(inlier_mask)\n",
    "print(u'%.1f%% der Wohnungen als Ausreißer identifiziert' % (sum(outlier_mask)*100.0/(sum(outlier_mask)+sum(inlier_mask))))"
   ]
  },
  {
   "cell_type": "code",
   "execution_count": 56,
   "metadata": {
    "collapsed": false
   },
   "outputs": [],
   "source": [
    "y2_pred_ransac = model_ransac.predict(X2)"
   ]
  },
  {
   "cell_type": "code",
   "execution_count": 57,
   "metadata": {
    "collapsed": true
   },
   "outputs": [],
   "source": [
    "mietwohnungen[u'Kaltmiete geschätzt (mit Lage)'] = y2_pred_ransac.astype('int')"
   ]
  },
  {
   "cell_type": "code",
   "execution_count": 58,
   "metadata": {
    "collapsed": true
   },
   "outputs": [],
   "source": [
    "r_22_ransac = r2_score(y[inlier_mask], y2_pred_ransac[inlier_mask])"
   ]
  },
  {
   "cell_type": "code",
   "execution_count": 59,
   "metadata": {
    "collapsed": false
   },
   "outputs": [
    {
     "data": {
      "image/png": "[encoded data removed]",
      "text/plain": [
       "<matplotlib.figure.Figure at 0x10a9ab7d0>"
      ]
     },
     "metadata": {},
     "output_type": "display_data"
    }
   ],
   "source": [
    "sns.regplot(mietwohnungen['Kaltmiete'][inlier_mask],\n",
    "            mietwohnungen[u'Kaltmiete geschätzt (mit Lage)'][inlier_mask])\n",
    "plt.scatter(mietwohnungen['Kaltmiete'][outlier_mask],\n",
    "            mietwohnungen[u'Kaltmiete geschätzt (mit Lage)'][outlier_mask],\n",
    "            alpha=0.1,\n",
    "            c='r')\n",
    "\n",
    "plt.title(u'Schätzung der Kaltmiete von Mietwohnungen in Dresden\\n(Lage, Anzahl Zimmer, Fläche)')\n",
    "plt.text(2600, 2100, r'$R^2=%.2f$' % r_22_ransac)\n",
    "plt.xlim(0, 3000)\n",
    "plt.ylim(0, 3000)\n",
    "plt.tight_layout()\n",
    "plt.savefig('LinReg.png', dpi=150)"
   ]
  },
  {
   "cell_type": "markdown",
   "metadata": {},
   "source": [
    "## Vorhersage für alle Postleitzahlen"
   ]
  },
  {
   "cell_type": "markdown",
   "metadata": {},
   "source": [
    "### Datencheck: Sind alle PLZ vorhanden?"
   ]
  },
  {
   "cell_type": "code",
   "execution_count": 60,
   "metadata": {
    "collapsed": false
   },
   "outputs": [
    {
     "data": {
      "text/plain": [
       "True"
      ]
     },
     "execution_count": 60,
     "metadata": {},
     "output_type": "execute_result"
    }
   ],
   "source": [
    "len(X2.columns[2:]) == len(ddplzs)"
   ]
  },
  {
   "cell_type": "code",
   "execution_count": 61,
   "metadata": {
    "collapsed": false
   },
   "outputs": [
    {
     "name": "stdout",
     "output_type": "stream",
     "text": [
      "01057 ✓\n",
      "01067 ✓\n",
      "01069 ✓\n",
      "01097 ✓\n",
      "01099 ✓\n",
      "01108 ✓\n",
      "01109 ✓\n",
      "01127 ✓\n",
      "01129 ✓\n",
      "01139 ✓\n",
      "01156 ✓\n",
      "01157 ✓\n",
      "01159 ✓\n",
      "01169 ✓\n",
      "01187 ✓\n",
      "01189 ✓\n",
      "01217 ✓\n",
      "01219 ✓\n",
      "01227 ✓\n",
      "01237 ✓\n",
      "01239 ✓\n",
      "01257 ✓\n",
      "01259 ✓\n",
      "01277 ✓\n",
      "01279 ✓\n",
      "01307 ✓\n",
      "01309 ✓\n",
      "01312 ✓\n",
      "01324 ✓\n",
      "01326 ✓\n",
      "01327 ✓\n",
      "01328 ✓\n",
      "01329 ✓\n",
      "01462 ✓\n",
      "01465 ✓\n",
      "01728 ✓\n"
     ]
    }
   ],
   "source": [
    "for plz in X2.columns[2:]:\n",
    "    if plz in ddplzs:\n",
    "        print(u'%s ✓' % plz)\n",
    "    else:\n",
    "        print(u'%s ✗' % plz)"
   ]
  },
  {
   "cell_type": "code",
   "execution_count": 62,
   "metadata": {
    "collapsed": false
   },
   "outputs": [
    {
     "data": {
      "text/html": [
       "<div>\n",
       "<table border=\"1\" class=\"dataframe\">\n",
       "  <thead>\n",
       "    <tr style=\"text-align: right;\">\n",
       "      <th></th>\n",
       "      <th>Wohnfläche</th>\n",
       "      <th>Zimmer</th>\n",
       "      <th>01057</th>\n",
       "      <th>01067</th>\n",
       "      <th>01069</th>\n",
       "      <th>01097</th>\n",
       "      <th>01099</th>\n",
       "      <th>01108</th>\n",
       "      <th>01109</th>\n",
       "      <th>01127</th>\n",
       "      <th>...</th>\n",
       "      <th>01309</th>\n",
       "      <th>01312</th>\n",
       "      <th>01324</th>\n",
       "      <th>01326</th>\n",
       "      <th>01327</th>\n",
       "      <th>01328</th>\n",
       "      <th>01329</th>\n",
       "      <th>01462</th>\n",
       "      <th>01465</th>\n",
       "      <th>01728</th>\n",
       "    </tr>\n",
       "    <tr>\n",
       "      <th>ID</th>\n",
       "      <th></th>\n",
       "      <th></th>\n",
       "      <th></th>\n",
       "      <th></th>\n",
       "      <th></th>\n",
       "      <th></th>\n",
       "      <th></th>\n",
       "      <th></th>\n",
       "      <th></th>\n",
       "      <th></th>\n",
       "      <th></th>\n",
       "      <th></th>\n",
       "      <th></th>\n",
       "      <th></th>\n",
       "      <th></th>\n",
       "      <th></th>\n",
       "      <th></th>\n",
       "      <th></th>\n",
       "      <th></th>\n",
       "      <th></th>\n",
       "      <th></th>\n",
       "    </tr>\n",
       "  </thead>\n",
       "  <tbody>\n",
       "    <tr>\n",
       "      <th>32158558</th>\n",
       "      <td>60</td>\n",
       "      <td>2</td>\n",
       "      <td>0</td>\n",
       "      <td>0</td>\n",
       "      <td>0</td>\n",
       "      <td>0</td>\n",
       "      <td>0</td>\n",
       "      <td>0</td>\n",
       "      <td>0</td>\n",
       "      <td>0</td>\n",
       "      <td>...</td>\n",
       "      <td>0</td>\n",
       "      <td>0</td>\n",
       "      <td>0</td>\n",
       "      <td>0</td>\n",
       "      <td>0</td>\n",
       "      <td>0</td>\n",
       "      <td>0</td>\n",
       "      <td>0</td>\n",
       "      <td>0</td>\n",
       "      <td>0</td>\n",
       "    </tr>\n",
       "  </tbody>\n",
       "</table>\n",
       "<p>1 rows × 38 columns</p>\n",
       "</div>"
      ],
      "text/plain": [
       "          Wohnfläche  Zimmer  01057  01067  01069  01097  01099  01108  01109  \\\n",
       "ID                                                                              \n",
       "32158558          60       2      0      0      0      0      0      0      0   \n",
       "\n",
       "          01127  ...    01309  01312  01324  01326  01327  01328  01329  \\\n",
       "ID               ...                                                      \n",
       "32158558      0  ...        0      0      0      0      0      0      0   \n",
       "\n",
       "          01462  01465  01728  \n",
       "ID                             \n",
       "32158558      0      0      0  \n",
       "\n",
       "[1 rows x 38 columns]"
      ]
     },
     "execution_count": 62,
     "metadata": {},
     "output_type": "execute_result"
    }
   ],
   "source": [
    "X2.head(1)"
   ]
  },
  {
   "cell_type": "markdown",
   "metadata": {},
   "source": [
    "### Prediction"
   ]
  },
  {
   "cell_type": "code",
   "execution_count": 98,
   "metadata": {
    "collapsed": false
   },
   "outputs": [],
   "source": [
    "for raum in range(2, 6):\n",
    "    kaltmietenDD = pd.DataFrame()\n",
    "    A = pd.Series(raum*25.0 * np.ones(len(ddplzs)))\n",
    "    Z = pd.Series(raum * np.ones(len(ddplzs)))\n",
    "\n",
    "    X_pred = pd.concat([A, Z, pd.get_dummies(ddplzs)], axis=1)\n",
    "\n",
    "    kaltmieten = model_ransac.predict(X_pred)\n",
    "\n",
    "    kaltmietenDD = pd.DataFrame(data={'Wohnfläche': A, 'Zimmer': Z, 'PLZ': ddplzs, 'Kaltmiete': kaltmieten.flatten()})\n",
    "\n",
    "    kaltmietenDD['KaltmieteProQm'] = kaltmietenDD['Kaltmiete'] / kaltmietenDD['Wohnfläche']\n",
    "\n",
    "    kaltmietenDD[['PLZ', 'KaltmieteProQm']].to_csv('Kaltmieten%sR.csv' % raum, index=False, float_format='%.2f')"
   ]
  },
  {
   "cell_type": "code",
   "execution_count": 99,
   "metadata": {
    "collapsed": false
   },
   "outputs": [
    {
     "data": {
      "text/html": [
       "<div>\n",
       "<table border=\"1\" class=\"dataframe\">\n",
       "  <thead>\n",
       "    <tr style=\"text-align: right;\">\n",
       "      <th></th>\n",
       "      <th>Kaltmiete</th>\n",
       "      <th>PLZ</th>\n",
       "      <th>Wohnfläche</th>\n",
       "      <th>Zimmer</th>\n",
       "      <th>KaltmieteProQm</th>\n",
       "    </tr>\n",
       "  </thead>\n",
       "  <tbody>\n",
       "    <tr>\n",
       "      <th>0</th>\n",
       "      <td>839.337041</td>\n",
       "      <td>01057</td>\n",
       "      <td>125</td>\n",
       "      <td>5</td>\n",
       "      <td>6.714696</td>\n",
       "    </tr>\n",
       "    <tr>\n",
       "      <th>1</th>\n",
       "      <td>955.969820</td>\n",
       "      <td>01067</td>\n",
       "      <td>125</td>\n",
       "      <td>5</td>\n",
       "      <td>7.647759</td>\n",
       "    </tr>\n",
       "    <tr>\n",
       "      <th>2</th>\n",
       "      <td>950.327065</td>\n",
       "      <td>01069</td>\n",
       "      <td>125</td>\n",
       "      <td>5</td>\n",
       "      <td>7.602617</td>\n",
       "    </tr>\n",
       "    <tr>\n",
       "      <th>3</th>\n",
       "      <td>963.479955</td>\n",
       "      <td>01097</td>\n",
       "      <td>125</td>\n",
       "      <td>5</td>\n",
       "      <td>7.707840</td>\n",
       "    </tr>\n",
       "    <tr>\n",
       "      <th>4</th>\n",
       "      <td>982.882935</td>\n",
       "      <td>01099</td>\n",
       "      <td>125</td>\n",
       "      <td>5</td>\n",
       "      <td>7.863063</td>\n",
       "    </tr>\n",
       "  </tbody>\n",
       "</table>\n",
       "</div>"
      ],
      "text/plain": [
       "    Kaltmiete    PLZ  Wohnfläche  Zimmer  KaltmieteProQm\n",
       "0  839.337041  01057         125       5        6.714696\n",
       "1  955.969820  01067         125       5        7.647759\n",
       "2  950.327065  01069         125       5        7.602617\n",
       "3  963.479955  01097         125       5        7.707840\n",
       "4  982.882935  01099         125       5        7.863063"
      ]
     },
     "execution_count": 99,
     "metadata": {},
     "output_type": "execute_result"
    }
   ],
   "source": [
    "kaltmietenDD.head()"
   ]
  },
  {
   "cell_type": "markdown",
   "metadata": {},
   "source": [
    "## Top 10 günstige Wohnungen finden"
   ]
  },
  {
   "cell_type": "code",
   "execution_count": 71,
   "metadata": {
    "collapsed": false
   },
   "outputs": [],
   "source": [
    "mietwohnungen[u'Differenz zur Schätzung'] = mietwohnungen[u'Kaltmiete'] - mietwohnungen[u'Kaltmiete geschätzt (mit Lage)']"
   ]
  },
  {
   "cell_type": "code",
   "execution_count": 72,
   "metadata": {
    "collapsed": false
   },
   "outputs": [],
   "source": [
    "topmietwohnungen = mietwohnungen.sort(u'Differenz zur Schätzung')"
   ]
  },
  {
   "cell_type": "markdown",
   "metadata": {},
   "source": [
    "### 3 Raum"
   ]
  },
  {
   "cell_type": "code",
   "execution_count": 73,
   "metadata": {
    "collapsed": false
   },
   "outputs": [
    {
     "data": {
      "text/html": [
       "<div>\n",
       "<table border=\"1\" class=\"dataframe\">\n",
       "  <thead>\n",
       "    <tr style=\"text-align: right;\">\n",
       "      <th></th>\n",
       "      <th>Titel</th>\n",
       "      <th>Wohnfläche</th>\n",
       "      <th>Kaltmiete</th>\n",
       "      <th>Differenz zur Schätzung</th>\n",
       "      <th>Stadtteil</th>\n",
       "      <th>Zimmer</th>\n",
       "    </tr>\n",
       "    <tr>\n",
       "      <th>ID</th>\n",
       "      <th></th>\n",
       "      <th></th>\n",
       "      <th></th>\n",
       "      <th></th>\n",
       "      <th></th>\n",
       "      <th></th>\n",
       "    </tr>\n",
       "  </thead>\n",
       "  <tbody>\n",
       "    <tr>\n",
       "      <th>75132176</th>\n",
       "      <td>*** In Schönfeld am Schloss, große Wohnung ode...</td>\n",
       "      <td>192</td>\n",
       "      <td>1152</td>\n",
       "      <td>-413</td>\n",
       "      <td>Schönfeld/Schullwitz</td>\n",
       "      <td>3</td>\n",
       "    </tr>\n",
       "    <tr>\n",
       "      <th>80894821</th>\n",
       "      <td>1 WG-Zi. in 3 Zi.- Männer-WG Dresden Pauschalm...</td>\n",
       "      <td>76</td>\n",
       "      <td>200</td>\n",
       "      <td>-318</td>\n",
       "      <td>Mickten</td>\n",
       "      <td>3</td>\n",
       "    </tr>\n",
       "    <tr>\n",
       "      <th>83514986</th>\n",
       "      <td>Bei Anmietung bis 31.08.2015 im ersten Jahr nu...</td>\n",
       "      <td>64</td>\n",
       "      <td>100</td>\n",
       "      <td>-304</td>\n",
       "      <td>Gorbitz-Nord/Neu-Omsewitz</td>\n",
       "      <td>3</td>\n",
       "    </tr>\n",
       "    <tr>\n",
       "      <th>82205246</th>\n",
       "      <td>Bei Anmietung bis 31.08.2015 im ersten Jahr nu...</td>\n",
       "      <td>64</td>\n",
       "      <td>100</td>\n",
       "      <td>-304</td>\n",
       "      <td>Gorbitz-Nord/Neu-Omsewitz</td>\n",
       "      <td>3</td>\n",
       "    </tr>\n",
       "    <tr>\n",
       "      <th>82205245</th>\n",
       "      <td>Bei Anmietung bis 31.08.2015 im ersten Jahr nu...</td>\n",
       "      <td>64</td>\n",
       "      <td>100</td>\n",
       "      <td>-304</td>\n",
       "      <td>Gorbitz-Nord/Neu-Omsewitz</td>\n",
       "      <td>3</td>\n",
       "    </tr>\n",
       "    <tr>\n",
       "      <th>82205247</th>\n",
       "      <td>Bei Anmietung bis 31.08.2015 im ersten Jahr nu...</td>\n",
       "      <td>64</td>\n",
       "      <td>100</td>\n",
       "      <td>-304</td>\n",
       "      <td>Gorbitz-Nord/Neu-Omsewitz</td>\n",
       "      <td>3</td>\n",
       "    </tr>\n",
       "    <tr>\n",
       "      <th>82205256</th>\n",
       "      <td>Bei Anmietung bis 31.08.2015 im ersten Jahr nu...</td>\n",
       "      <td>64</td>\n",
       "      <td>100</td>\n",
       "      <td>-304</td>\n",
       "      <td>Gorbitz-Nord/Neu-Omsewitz</td>\n",
       "      <td>3</td>\n",
       "    </tr>\n",
       "    <tr>\n",
       "      <th>82205253</th>\n",
       "      <td>Bei Anmietung bis 31.08.2015 im ersten Jahr nu...</td>\n",
       "      <td>64</td>\n",
       "      <td>100</td>\n",
       "      <td>-304</td>\n",
       "      <td>Gorbitz-Nord/Neu-Omsewitz</td>\n",
       "      <td>3</td>\n",
       "    </tr>\n",
       "    <tr>\n",
       "      <th>82205251</th>\n",
       "      <td>Bei Anmietung bis 31.08.2015 im ersten Jahr nu...</td>\n",
       "      <td>64</td>\n",
       "      <td>100</td>\n",
       "      <td>-304</td>\n",
       "      <td>Gorbitz-Nord/Neu-Omsewitz</td>\n",
       "      <td>3</td>\n",
       "    </tr>\n",
       "    <tr>\n",
       "      <th>82205249</th>\n",
       "      <td>Bei Anmietung bis 31.08.2015 im ersten Jahr nu...</td>\n",
       "      <td>64</td>\n",
       "      <td>100</td>\n",
       "      <td>-304</td>\n",
       "      <td>Gorbitz-Nord/Neu-Omsewitz</td>\n",
       "      <td>3</td>\n",
       "    </tr>\n",
       "  </tbody>\n",
       "</table>\n",
       "</div>"
      ],
      "text/plain": [
       "                                                      Titel  Wohnfläche  \\\n",
       "ID                                                                        \n",
       "75132176  *** In Schönfeld am Schloss, große Wohnung ode...         192   \n",
       "80894821  1 WG-Zi. in 3 Zi.- Männer-WG Dresden Pauschalm...          76   \n",
       "83514986  Bei Anmietung bis 31.08.2015 im ersten Jahr nu...          64   \n",
       "82205246  Bei Anmietung bis 31.08.2015 im ersten Jahr nu...          64   \n",
       "82205245  Bei Anmietung bis 31.08.2015 im ersten Jahr nu...          64   \n",
       "82205247  Bei Anmietung bis 31.08.2015 im ersten Jahr nu...          64   \n",
       "82205256  Bei Anmietung bis 31.08.2015 im ersten Jahr nu...          64   \n",
       "82205253  Bei Anmietung bis 31.08.2015 im ersten Jahr nu...          64   \n",
       "82205251  Bei Anmietung bis 31.08.2015 im ersten Jahr nu...          64   \n",
       "82205249  Bei Anmietung bis 31.08.2015 im ersten Jahr nu...          64   \n",
       "\n",
       "          Kaltmiete  Differenz zur Schätzung                  Stadtteil  \\\n",
       "ID                                                                        \n",
       "75132176       1152                     -413       Schönfeld/Schullwitz   \n",
       "80894821        200                     -318                    Mickten   \n",
       "83514986        100                     -304  Gorbitz-Nord/Neu-Omsewitz   \n",
       "82205246        100                     -304  Gorbitz-Nord/Neu-Omsewitz   \n",
       "82205245        100                     -304  Gorbitz-Nord/Neu-Omsewitz   \n",
       "82205247        100                     -304  Gorbitz-Nord/Neu-Omsewitz   \n",
       "82205256        100                     -304  Gorbitz-Nord/Neu-Omsewitz   \n",
       "82205253        100                     -304  Gorbitz-Nord/Neu-Omsewitz   \n",
       "82205251        100                     -304  Gorbitz-Nord/Neu-Omsewitz   \n",
       "82205249        100                     -304  Gorbitz-Nord/Neu-Omsewitz   \n",
       "\n",
       "          Zimmer  \n",
       "ID                \n",
       "75132176       3  \n",
       "80894821       3  \n",
       "83514986       3  \n",
       "82205246       3  \n",
       "82205245       3  \n",
       "82205247       3  \n",
       "82205256       3  \n",
       "82205253       3  \n",
       "82205251       3  \n",
       "82205249       3  "
      ]
     },
     "execution_count": 73,
     "metadata": {},
     "output_type": "execute_result"
    }
   ],
   "source": [
    "topmietwohnungen[topmietwohnungen['Zimmer']==3][['Titel', u'Wohnfläche', 'Kaltmiete', u'Differenz zur Schätzung', 'Stadtteil', 'Zimmer']].head(10)"
   ]
  },
  {
   "cell_type": "markdown",
   "metadata": {},
   "source": [
    "### 4 Raum"
   ]
  },
  {
   "cell_type": "code",
   "execution_count": 74,
   "metadata": {
    "collapsed": false
   },
   "outputs": [
    {
     "data": {
      "text/html": [
       "<div>\n",
       "<table border=\"1\" class=\"dataframe\">\n",
       "  <thead>\n",
       "    <tr style=\"text-align: right;\">\n",
       "      <th></th>\n",
       "      <th>Titel</th>\n",
       "      <th>Wohnfläche</th>\n",
       "      <th>Kaltmiete</th>\n",
       "      <th>Differenz zur Schätzung</th>\n",
       "      <th>Stadtteil</th>\n",
       "      <th>Zimmer</th>\n",
       "    </tr>\n",
       "    <tr>\n",
       "      <th>ID</th>\n",
       "      <th></th>\n",
       "      <th></th>\n",
       "      <th></th>\n",
       "      <th></th>\n",
       "      <th></th>\n",
       "      <th></th>\n",
       "    </tr>\n",
       "  </thead>\n",
       "  <tbody>\n",
       "    <tr>\n",
       "      <th>83450827</th>\n",
       "      <td>4-Zimmer-Penthouse Provisionsfrei</td>\n",
       "      <td>200</td>\n",
       "      <td>800</td>\n",
       "      <td>-932</td>\n",
       "      <td>Innere Altstadt</td>\n",
       "      <td>4</td>\n",
       "    </tr>\n",
       "    <tr>\n",
       "      <th>80967575</th>\n",
       "      <td>3 Ebenen in schöner Altbauvilla suchen Mieter/in</td>\n",
       "      <td>226</td>\n",
       "      <td>1250</td>\n",
       "      <td>-706</td>\n",
       "      <td>Bühlau/Weißer Hirsch</td>\n",
       "      <td>4</td>\n",
       "    </tr>\n",
       "    <tr>\n",
       "      <th>77009661</th>\n",
       "      <td>LOFTWOHNUNG !!!! Raumaufteilung nach Wunsch !!!</td>\n",
       "      <td>230</td>\n",
       "      <td>1245</td>\n",
       "      <td>-632</td>\n",
       "      <td>Reick</td>\n",
       "      <td>4</td>\n",
       "    </tr>\n",
       "    <tr>\n",
       "      <th>80509668</th>\n",
       "      <td>4,0-Zimmerwohnung mit Balkon!</td>\n",
       "      <td>154</td>\n",
       "      <td>957</td>\n",
       "      <td>-338</td>\n",
       "      <td>Bühlau/Weißer Hirsch</td>\n",
       "      <td>4</td>\n",
       "    </tr>\n",
       "    <tr>\n",
       "      <th>81958445</th>\n",
       "      <td>NEU-SANIERTE 4,5-Zimmer-Wohnung im TEILSANIERT...</td>\n",
       "      <td>126</td>\n",
       "      <td>750</td>\n",
       "      <td>-281</td>\n",
       "      <td>Löbtau-Nord</td>\n",
       "      <td>4</td>\n",
       "    </tr>\n",
       "    <tr>\n",
       "      <th>83472021</th>\n",
       "      <td>Weißer Hirsch Dresden</td>\n",
       "      <td>149</td>\n",
       "      <td>1013</td>\n",
       "      <td>-237</td>\n",
       "      <td>Bühlau/Weißer Hirsch</td>\n",
       "      <td>4</td>\n",
       "    </tr>\n",
       "    <tr>\n",
       "      <th>80856230</th>\n",
       "      <td>komfortable 4-Raumwohnung mit zentralem Flur, ...</td>\n",
       "      <td>131</td>\n",
       "      <td>775</td>\n",
       "      <td>-220</td>\n",
       "      <td>Pieschen-Nord/Trachenberge</td>\n",
       "      <td>4</td>\n",
       "    </tr>\n",
       "    <tr>\n",
       "      <th>83187702</th>\n",
       "      <td>bezugsfertiges Angebot für Srudenten/Azubis- c...</td>\n",
       "      <td>77</td>\n",
       "      <td>300</td>\n",
       "      <td>-209</td>\n",
       "      <td>Strehlen</td>\n",
       "      <td>4</td>\n",
       "    </tr>\n",
       "    <tr>\n",
       "      <th>81894716</th>\n",
       "      <td>Viel Platz in der Villa Saxonia!</td>\n",
       "      <td>157</td>\n",
       "      <td>1120</td>\n",
       "      <td>-203</td>\n",
       "      <td>Bühlau/Weißer Hirsch</td>\n",
       "      <td>4</td>\n",
       "    </tr>\n",
       "    <tr>\n",
       "      <th>81890511</th>\n",
       "      <td>Super Angebot für Studenten und Lehrlinge!</td>\n",
       "      <td>77</td>\n",
       "      <td>310</td>\n",
       "      <td>-199</td>\n",
       "      <td>Strehlen</td>\n",
       "      <td>4</td>\n",
       "    </tr>\n",
       "  </tbody>\n",
       "</table>\n",
       "</div>"
      ],
      "text/plain": [
       "                                                      Titel  Wohnfläche  \\\n",
       "ID                                                                        \n",
       "83450827                  4-Zimmer-Penthouse Provisionsfrei         200   \n",
       "80967575   3 Ebenen in schöner Altbauvilla suchen Mieter/in         226   \n",
       "77009661    LOFTWOHNUNG !!!! Raumaufteilung nach Wunsch !!!         230   \n",
       "80509668                      4,0-Zimmerwohnung mit Balkon!         154   \n",
       "81958445  NEU-SANIERTE 4,5-Zimmer-Wohnung im TEILSANIERT...         126   \n",
       "83472021                              Weißer Hirsch Dresden         149   \n",
       "80856230  komfortable 4-Raumwohnung mit zentralem Flur, ...         131   \n",
       "83187702  bezugsfertiges Angebot für Srudenten/Azubis- c...          77   \n",
       "81894716                   Viel Platz in der Villa Saxonia!         157   \n",
       "81890511         Super Angebot für Studenten und Lehrlinge!          77   \n",
       "\n",
       "          Kaltmiete  Differenz zur Schätzung                   Stadtteil  \\\n",
       "ID                                                                         \n",
       "83450827        800                     -932             Innere Altstadt   \n",
       "80967575       1250                     -706        Bühlau/Weißer Hirsch   \n",
       "77009661       1245                     -632                       Reick   \n",
       "80509668        957                     -338        Bühlau/Weißer Hirsch   \n",
       "81958445        750                     -281                 Löbtau-Nord   \n",
       "83472021       1013                     -237        Bühlau/Weißer Hirsch   \n",
       "80856230        775                     -220  Pieschen-Nord/Trachenberge   \n",
       "83187702        300                     -209                    Strehlen   \n",
       "81894716       1120                     -203        Bühlau/Weißer Hirsch   \n",
       "81890511        310                     -199                    Strehlen   \n",
       "\n",
       "          Zimmer  \n",
       "ID                \n",
       "83450827       4  \n",
       "80967575       4  \n",
       "77009661       4  \n",
       "80509668       4  \n",
       "81958445       4  \n",
       "83472021       4  \n",
       "80856230       4  \n",
       "83187702       4  \n",
       "81894716       4  \n",
       "81890511       4  "
      ]
     },
     "execution_count": 74,
     "metadata": {},
     "output_type": "execute_result"
    }
   ],
   "source": [
    "topmietwohnungen[topmietwohnungen['Zimmer']==4][['Titel', u'Wohnfläche', 'Kaltmiete', u'Differenz zur Schätzung', 'Stadtteil', 'Zimmer']].head(10)"
   ]
  },
  {
   "cell_type": "markdown",
   "metadata": {},
   "source": [
    "### 5 Raum"
   ]
  },
  {
   "cell_type": "code",
   "execution_count": 75,
   "metadata": {
    "collapsed": false
   },
   "outputs": [
    {
     "data": {
      "text/html": [
       "<div>\n",
       "<table border=\"1\" class=\"dataframe\">\n",
       "  <thead>\n",
       "    <tr style=\"text-align: right;\">\n",
       "      <th></th>\n",
       "      <th>Titel</th>\n",
       "      <th>Wohnfläche</th>\n",
       "      <th>Kaltmiete</th>\n",
       "      <th>Differenz zur Schätzung</th>\n",
       "      <th>Stadtteil</th>\n",
       "      <th>Zimmer</th>\n",
       "    </tr>\n",
       "    <tr>\n",
       "      <th>ID</th>\n",
       "      <th></th>\n",
       "      <th></th>\n",
       "      <th></th>\n",
       "      <th></th>\n",
       "      <th></th>\n",
       "      <th></th>\n",
       "    </tr>\n",
       "  </thead>\n",
       "  <tbody>\n",
       "    <tr>\n",
       "      <th>83240576</th>\n",
       "      <td>HAUSFLAIR! Individuelle, großzügige Wohnung mi...</td>\n",
       "      <td>160</td>\n",
       "      <td>750</td>\n",
       "      <td>-497</td>\n",
       "      <td>Weixdorf</td>\n",
       "      <td>5</td>\n",
       "    </tr>\n",
       "    <tr>\n",
       "      <th>83467178</th>\n",
       "      <td>Wohnen in denkmalgeschützter 3 Familien Villa ...</td>\n",
       "      <td>220</td>\n",
       "      <td>1430</td>\n",
       "      <td>-433</td>\n",
       "      <td>Bühlau/Weißer Hirsch</td>\n",
       "      <td>5</td>\n",
       "    </tr>\n",
       "    <tr>\n",
       "      <th>79267832</th>\n",
       "      <td>Wohnen und Büro in Einem</td>\n",
       "      <td>154</td>\n",
       "      <td>885</td>\n",
       "      <td>-386</td>\n",
       "      <td>Striesen-Süd</td>\n",
       "      <td>5</td>\n",
       "    </tr>\n",
       "    <tr>\n",
       "      <th>83458111</th>\n",
       "      <td>Auszubildende und Studenten willkommen, 100  ...</td>\n",
       "      <td>95</td>\n",
       "      <td>393</td>\n",
       "      <td>-208</td>\n",
       "      <td>Leuben</td>\n",
       "      <td>5</td>\n",
       "    </tr>\n",
       "    <tr>\n",
       "      <th>78209137</th>\n",
       "      <td>Endlich wieder ne 5-R-Whg.! 3 Balkone, gute Au...</td>\n",
       "      <td>153</td>\n",
       "      <td>980</td>\n",
       "      <td>-205</td>\n",
       "      <td>Seidnitz/Dobritz</td>\n",
       "      <td>5</td>\n",
       "    </tr>\n",
       "    <tr>\n",
       "      <th>82698033</th>\n",
       "      <td>Traumhafte 5-Zimmer-Maisonette-Wohnung mit eig...</td>\n",
       "      <td>150</td>\n",
       "      <td>975</td>\n",
       "      <td>-165</td>\n",
       "      <td>Leubnitz-Neuostra</td>\n",
       "      <td>5</td>\n",
       "    </tr>\n",
       "    <tr>\n",
       "      <th>82580863</th>\n",
       "      <td>attraktive 5 Raumwohnung in Dresden Langebrück</td>\n",
       "      <td>149</td>\n",
       "      <td>953</td>\n",
       "      <td>-139</td>\n",
       "      <td>Seevorstadt-Ost</td>\n",
       "      <td>5</td>\n",
       "    </tr>\n",
       "    <tr>\n",
       "      <th>82752578</th>\n",
       "      <td>Große Etagenwohnung in Langebrück! Erstbezug n...</td>\n",
       "      <td>152</td>\n",
       "      <td>999</td>\n",
       "      <td>-121</td>\n",
       "      <td>Langebrück/Schönborn</td>\n",
       "      <td>5</td>\n",
       "    </tr>\n",
       "    <tr>\n",
       "      <th>77822044</th>\n",
       "      <td>Provisionsfrei! 140m², Küche, Luxusbäder</td>\n",
       "      <td>144</td>\n",
       "      <td>950</td>\n",
       "      <td>-120</td>\n",
       "      <td>Pieschen-Nord/Trachenberge</td>\n",
       "      <td>5</td>\n",
       "    </tr>\n",
       "    <tr>\n",
       "      <th>82238231</th>\n",
       "      <td>Hinein ins große Wohnvergnügen!</td>\n",
       "      <td>159</td>\n",
       "      <td>1117</td>\n",
       "      <td>-106</td>\n",
       "      <td>Leubnitz-Neuostra</td>\n",
       "      <td>5</td>\n",
       "    </tr>\n",
       "  </tbody>\n",
       "</table>\n",
       "</div>"
      ],
      "text/plain": [
       "                                                      Titel  Wohnfläche  \\\n",
       "ID                                                                        \n",
       "83240576  HAUSFLAIR! Individuelle, großzügige Wohnung mi...         160   \n",
       "83467178  Wohnen in denkmalgeschützter 3 Familien Villa ...         220   \n",
       "79267832                           Wohnen und Büro in Einem         154   \n",
       "83458111  Auszubildende und Studenten willkommen, 100  ...          95   \n",
       "78209137  Endlich wieder ne 5-R-Whg.! 3 Balkone, gute Au...         153   \n",
       "82698033  Traumhafte 5-Zimmer-Maisonette-Wohnung mit eig...         150   \n",
       "82580863     attraktive 5 Raumwohnung in Dresden Langebrück         149   \n",
       "82752578  Große Etagenwohnung in Langebrück! Erstbezug n...         152   \n",
       "77822044           Provisionsfrei! 140m², Küche, Luxusbäder         144   \n",
       "82238231                    Hinein ins große Wohnvergnügen!         159   \n",
       "\n",
       "          Kaltmiete  Differenz zur Schätzung                   Stadtteil  \\\n",
       "ID                                                                         \n",
       "83240576        750                     -497                    Weixdorf   \n",
       "83467178       1430                     -433        Bühlau/Weißer Hirsch   \n",
       "79267832        885                     -386                Striesen-Süd   \n",
       "83458111        393                     -208                      Leuben   \n",
       "78209137        980                     -205            Seidnitz/Dobritz   \n",
       "82698033        975                     -165           Leubnitz-Neuostra   \n",
       "82580863        953                     -139             Seevorstadt-Ost   \n",
       "82752578        999                     -121        Langebrück/Schönborn   \n",
       "77822044        950                     -120  Pieschen-Nord/Trachenberge   \n",
       "82238231       1117                     -106           Leubnitz-Neuostra   \n",
       "\n",
       "          Zimmer  \n",
       "ID                \n",
       "83240576       5  \n",
       "83467178       5  \n",
       "79267832       5  \n",
       "83458111       5  \n",
       "78209137       5  \n",
       "82698033       5  \n",
       "82580863       5  \n",
       "82752578       5  \n",
       "77822044       5  \n",
       "82238231       5  "
      ]
     },
     "execution_count": 75,
     "metadata": {},
     "output_type": "execute_result"
    }
   ],
   "source": [
    "topmietwohnungen[topmietwohnungen['Zimmer']==5][['Titel', u'Wohnfläche', 'Kaltmiete', u'Differenz zur Schätzung', 'Stadtteil', 'Zimmer']].head(10)"
   ]
  },
  {
   "cell_type": "markdown",
   "metadata": {
    "collapsed": true
   },
   "source": [
    "Fragen? @Balzer82"
   ]
  },
  {
   "cell_type": "code",
   "execution_count": null,
   "metadata": {
    "collapsed": true
   },
   "outputs": [],
   "source": []
  },
  {
   "cell_type": "code",
   "execution_count": null,
   "metadata": {
    "collapsed": true
   },
   "outputs": [],
   "source": []
  },
  {
   "cell_type": "code",
   "execution_count": null,
   "metadata": {
    "collapsed": true
   },
   "outputs": [],
   "source": []
  }
 ],
 "metadata": {
  "kernelspec": {
   "display_name": "Python 2",
   "language": "python",
   "name": "python2"
  },
  "language_info": {
   "codemirror_mode": {
    "name": "ipython",
    "version": 2
   },
   "file_extension": ".py",
   "mimetype": "text/x-python",
   "name": "python",
   "nbconvert_exporter": "python",
   "pygments_lexer": "ipython2",
   "version": "2.7.13"
  }
 },
 "nbformat": 4,
 "nbformat_minor": 0
}
